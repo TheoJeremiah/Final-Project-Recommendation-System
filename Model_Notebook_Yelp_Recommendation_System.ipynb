{
 "cells": [
  {
   "cell_type": "markdown",
   "metadata": {},
   "source": [
    "# Restaurant Recommendation System\n",
    "## Theo Jeremiah"
   ]
  },
  {
   "cell_type": "code",
   "execution_count": 170,
   "metadata": {
    "ExecuteTime": {
     "end_time": "2019-11-19T06:43:23.391928Z",
     "start_time": "2019-11-19T06:43:23.384929Z"
    }
   },
   "outputs": [],
   "source": [
    "import numpy as np\n",
    "import pandas as pd\n",
    "import matplotlib.pyplot as plt\n",
    "import seaborn as sns\n",
    "from sklearn.model_selection import train_test_split\n",
    "from sklearn.feature_extraction.text import TfidfVectorizer\n",
    "from nltk.corpus import stopwords \n",
    "from nltk.tokenize import WordPunctTokenizer"
   ]
  },
  {
   "cell_type": "code",
   "execution_count": 171,
   "metadata": {
    "ExecuteTime": {
     "end_time": "2019-11-19T06:43:24.373546Z",
     "start_time": "2019-11-19T06:43:24.370545Z"
    }
   },
   "outputs": [],
   "source": [
    "import warnings\n",
    "warnings.filterwarnings('ignore')"
   ]
  },
  {
   "cell_type": "markdown",
   "metadata": {},
   "source": [
    "## Import Data"
   ]
  },
  {
   "cell_type": "code",
   "execution_count": 172,
   "metadata": {
    "ExecuteTime": {
     "end_time": "2019-11-19T06:43:26.540157Z",
     "start_time": "2019-11-19T06:43:26.089116Z"
    }
   },
   "outputs": [],
   "source": [
    "yelp = pd.read_csv('yelp_data_arizona_state_topcity_restaurant_sampling_FINAL_DATA.csv')"
   ]
  },
  {
   "cell_type": "code",
   "execution_count": 173,
   "metadata": {
    "ExecuteTime": {
     "end_time": "2019-11-19T06:43:26.554144Z",
     "start_time": "2019-11-19T06:43:26.542140Z"
    }
   },
   "outputs": [],
   "source": [
    "df = yelp[['review_id', 'user_id', 'business_id', 'text', 'stars', 'date']]"
   ]
  },
  {
   "cell_type": "code",
   "execution_count": 174,
   "metadata": {
    "ExecuteTime": {
     "end_time": "2019-11-19T06:43:29.007463Z",
     "start_time": "2019-11-19T06:43:26.934968Z"
    }
   },
   "outputs": [],
   "source": [
    "df_business = pd.read_csv('yelp_business.csv')"
   ]
  },
  {
   "cell_type": "code",
   "execution_count": 175,
   "metadata": {
    "ExecuteTime": {
     "end_time": "2019-11-19T06:43:30.763228Z",
     "start_time": "2019-11-19T06:43:30.744240Z"
    }
   },
   "outputs": [
    {
     "data": {
      "text/plain": [
       "review_id      0\n",
       "user_id        0\n",
       "business_id    0\n",
       "text           0\n",
       "stars          0\n",
       "date           0\n",
       "dtype: int64"
      ]
     },
     "execution_count": 175,
     "metadata": {},
     "output_type": "execute_result"
    }
   ],
   "source": [
    "#Check Null values in Dataframe\n",
    "df.isnull().sum()"
   ]
  },
  {
   "cell_type": "code",
   "execution_count": 176,
   "metadata": {
    "ExecuteTime": {
     "end_time": "2019-11-19T06:43:31.630599Z",
     "start_time": "2019-11-19T06:43:31.618594Z"
    }
   },
   "outputs": [
    {
     "data": {
      "text/html": [
       "<div>\n",
       "<style scoped>\n",
       "    .dataframe tbody tr th:only-of-type {\n",
       "        vertical-align: middle;\n",
       "    }\n",
       "\n",
       "    .dataframe tbody tr th {\n",
       "        vertical-align: top;\n",
       "    }\n",
       "\n",
       "    .dataframe thead th {\n",
       "        text-align: right;\n",
       "    }\n",
       "</style>\n",
       "<table border=\"1\" class=\"dataframe\">\n",
       "  <thead>\n",
       "    <tr style=\"text-align: right;\">\n",
       "      <th></th>\n",
       "      <th>review_id</th>\n",
       "      <th>user_id</th>\n",
       "      <th>business_id</th>\n",
       "      <th>text</th>\n",
       "      <th>stars</th>\n",
       "      <th>date</th>\n",
       "    </tr>\n",
       "  </thead>\n",
       "  <tbody>\n",
       "    <tr>\n",
       "      <td>0</td>\n",
       "      <td>V93SYj2OLh5m9Cquzf-7kg</td>\n",
       "      <td>ZwVz20be-hOZnyAbevyMyQ</td>\n",
       "      <td>2c9Vptks_vowLgVUMnCgjw</td>\n",
       "      <td>Came here while in town for a country concert....</td>\n",
       "      <td>4.0</td>\n",
       "      <td>2013-09-04 01:29:46</td>\n",
       "    </tr>\n",
       "    <tr>\n",
       "      <td>1</td>\n",
       "      <td>vNTFadc6T9HeH3Qa78dc_Q</td>\n",
       "      <td>91TB-gzcNyxFh46TL0pmnQ</td>\n",
       "      <td>6nKR80xEGHYf2UxAe_Cu_g</td>\n",
       "      <td>Best barbecue this side of the Mississippi!!!!...</td>\n",
       "      <td>5.0</td>\n",
       "      <td>2015-12-05 02:50:10</td>\n",
       "    </tr>\n",
       "    <tr>\n",
       "      <td>2</td>\n",
       "      <td>SXRFBCt5eXCBF7TlI7UG6Q</td>\n",
       "      <td>Y_QBiZpATJoz8hKUfYF66A</td>\n",
       "      <td>fbQaKW0Lte0JQ_opbnjdKg</td>\n",
       "      <td>Absolutely amazing. Think Chipotle for enchila...</td>\n",
       "      <td>5.0</td>\n",
       "      <td>2014-04-01 01:56:00</td>\n",
       "    </tr>\n",
       "    <tr>\n",
       "      <td>3</td>\n",
       "      <td>CqMNjtG0hNZGhDw4RDE-zw</td>\n",
       "      <td>_Jg-IA0M-GSjBlGu-wmejg</td>\n",
       "      <td>r8764MtYyt8JhxMvrfM_xQ</td>\n",
       "      <td>I was really disappointed with my most recent ...</td>\n",
       "      <td>2.0</td>\n",
       "      <td>2014-10-11 03:53:53</td>\n",
       "    </tr>\n",
       "    <tr>\n",
       "      <td>4</td>\n",
       "      <td>5hZLouGEW4wm6BTJ5aNUNw</td>\n",
       "      <td>1CqkFliipv_X15WYn5aPfg</td>\n",
       "      <td>QS3QxI7u5PRdtbGgI0-UsA</td>\n",
       "      <td>I grade sushi restaurants on 3 factors:\\n- Qua...</td>\n",
       "      <td>4.0</td>\n",
       "      <td>2015-03-04 19:36:21</td>\n",
       "    </tr>\n",
       "  </tbody>\n",
       "</table>\n",
       "</div>"
      ],
      "text/plain": [
       "                review_id                 user_id             business_id  \\\n",
       "0  V93SYj2OLh5m9Cquzf-7kg  ZwVz20be-hOZnyAbevyMyQ  2c9Vptks_vowLgVUMnCgjw   \n",
       "1  vNTFadc6T9HeH3Qa78dc_Q  91TB-gzcNyxFh46TL0pmnQ  6nKR80xEGHYf2UxAe_Cu_g   \n",
       "2  SXRFBCt5eXCBF7TlI7UG6Q  Y_QBiZpATJoz8hKUfYF66A  fbQaKW0Lte0JQ_opbnjdKg   \n",
       "3  CqMNjtG0hNZGhDw4RDE-zw  _Jg-IA0M-GSjBlGu-wmejg  r8764MtYyt8JhxMvrfM_xQ   \n",
       "4  5hZLouGEW4wm6BTJ5aNUNw  1CqkFliipv_X15WYn5aPfg  QS3QxI7u5PRdtbGgI0-UsA   \n",
       "\n",
       "                                                text  stars  \\\n",
       "0  Came here while in town for a country concert....    4.0   \n",
       "1  Best barbecue this side of the Mississippi!!!!...    5.0   \n",
       "2  Absolutely amazing. Think Chipotle for enchila...    5.0   \n",
       "3  I was really disappointed with my most recent ...    2.0   \n",
       "4  I grade sushi restaurants on 3 factors:\\n- Qua...    4.0   \n",
       "\n",
       "                  date  \n",
       "0  2013-09-04 01:29:46  \n",
       "1  2015-12-05 02:50:10  \n",
       "2  2014-04-01 01:56:00  \n",
       "3  2014-10-11 03:53:53  \n",
       "4  2015-03-04 19:36:21  "
      ]
     },
     "execution_count": 176,
     "metadata": {},
     "output_type": "execute_result"
    }
   ],
   "source": [
    "df.head()"
   ]
  },
  {
   "cell_type": "code",
   "execution_count": 177,
   "metadata": {
    "ExecuteTime": {
     "end_time": "2019-11-19T06:43:32.901138Z",
     "start_time": "2019-11-19T06:43:32.894148Z"
    }
   },
   "outputs": [
    {
     "data": {
      "text/plain": [
       "(26606, 6)"
      ]
     },
     "execution_count": 177,
     "metadata": {},
     "output_type": "execute_result"
    }
   ],
   "source": [
    "df.shape"
   ]
  },
  {
   "cell_type": "markdown",
   "metadata": {},
   "source": [
    "### Select only stars and text"
   ]
  },
  {
   "cell_type": "code",
   "execution_count": 178,
   "metadata": {
    "ExecuteTime": {
     "end_time": "2019-11-19T06:43:34.644987Z",
     "start_time": "2019-11-19T06:43:34.618983Z"
    }
   },
   "outputs": [],
   "source": [
    "yelp_data = df[['business_id', 'user_id', 'stars', 'text']]"
   ]
  },
  {
   "cell_type": "code",
   "execution_count": 179,
   "metadata": {
    "ExecuteTime": {
     "end_time": "2019-11-19T06:43:34.986832Z",
     "start_time": "2019-11-19T06:43:34.974820Z"
    }
   },
   "outputs": [],
   "source": [
    "import string\n",
    "from nltk.corpus import stopwords\n",
    "stop = []\n",
    "for word in stopwords.words('english'):\n",
    "    s = [char for char in word if char not in string.punctuation]\n",
    "    stop.append(''.join(s))"
   ]
  },
  {
   "cell_type": "code",
   "execution_count": 180,
   "metadata": {
    "ExecuteTime": {
     "end_time": "2019-11-19T06:43:35.942656Z",
     "start_time": "2019-11-19T06:43:35.935668Z"
    }
   },
   "outputs": [],
   "source": [
    "def text_process(mess):\n",
    "    \"\"\"\n",
    "    Takes in a string of text, then performs the following:\n",
    "    1. Remove all punctuation\n",
    "    2. Remove all stopwords\n",
    "    3. Returns a list of the cleaned text\n",
    "    \"\"\"\n",
    "    # Check characters to see if they are in punctuation\n",
    "    nopunc = [char for char in mess if char not in string.punctuation]\n",
    "\n",
    "    # Join the characters again to form the string.\n",
    "    nopunc = ''.join(nopunc)\n",
    "    \n",
    "    # Now just remove any stopwords\n",
    "    return \" \".join([word for word in nopunc.split() if word.lower() not in stop])"
   ]
  },
  {
   "cell_type": "markdown",
   "metadata": {},
   "source": [
    "### Clean Text"
   ]
  },
  {
   "cell_type": "code",
   "execution_count": 181,
   "metadata": {
    "ExecuteTime": {
     "end_time": "2019-11-19T06:43:43.845434Z",
     "start_time": "2019-11-19T06:43:37.054730Z"
    }
   },
   "outputs": [],
   "source": [
    "yelp_data['text'] = yelp_data['text'].apply(text_process)"
   ]
  },
  {
   "cell_type": "code",
   "execution_count": 182,
   "metadata": {
    "ExecuteTime": {
     "end_time": "2019-11-19T06:43:43.865424Z",
     "start_time": "2019-11-19T06:43:43.847428Z"
    }
   },
   "outputs": [],
   "source": [
    "#Split train test for testing the model later\n",
    "vld_size=0.15\n",
    "X_train, X_valid, y_train, y_valid = train_test_split(yelp_data['text'], df['business_id'], test_size = vld_size) "
   ]
  },
  {
   "cell_type": "markdown",
   "metadata": {},
   "source": [
    "### Create two tables of user,text and business,text"
   ]
  },
  {
   "cell_type": "code",
   "execution_count": 192,
   "metadata": {
    "ExecuteTime": {
     "end_time": "2019-11-19T06:45:10.630605Z",
     "start_time": "2019-11-19T06:45:10.621619Z"
    }
   },
   "outputs": [],
   "source": [
    "userid_df = yelp_data[['user_id','text']]\n",
    "business_df = yelp_data[['business_id', 'text']]"
   ]
  },
  {
   "cell_type": "code",
   "execution_count": 193,
   "metadata": {
    "ExecuteTime": {
     "end_time": "2019-11-19T06:45:10.986658Z",
     "start_time": "2019-11-19T06:45:10.978666Z"
    }
   },
   "outputs": [
    {
     "data": {
      "text/html": [
       "<div>\n",
       "<style scoped>\n",
       "    .dataframe tbody tr th:only-of-type {\n",
       "        vertical-align: middle;\n",
       "    }\n",
       "\n",
       "    .dataframe tbody tr th {\n",
       "        vertical-align: top;\n",
       "    }\n",
       "\n",
       "    .dataframe thead th {\n",
       "        text-align: right;\n",
       "    }\n",
       "</style>\n",
       "<table border=\"1\" class=\"dataframe\">\n",
       "  <thead>\n",
       "    <tr style=\"text-align: right;\">\n",
       "      <th></th>\n",
       "      <th>user_id</th>\n",
       "      <th>text</th>\n",
       "    </tr>\n",
       "  </thead>\n",
       "  <tbody>\n",
       "    <tr>\n",
       "      <td>0</td>\n",
       "      <td>ZwVz20be-hOZnyAbevyMyQ</td>\n",
       "      <td>Came town country concert better way start day...</td>\n",
       "    </tr>\n",
       "    <tr>\n",
       "      <td>1</td>\n",
       "      <td>91TB-gzcNyxFh46TL0pmnQ</td>\n",
       "      <td>Best barbecue side Mississippi Come car washed...</td>\n",
       "    </tr>\n",
       "    <tr>\n",
       "      <td>2</td>\n",
       "      <td>Y_QBiZpATJoz8hKUfYF66A</td>\n",
       "      <td>Absolutely amazing Think Chipotle enchiladas N...</td>\n",
       "    </tr>\n",
       "    <tr>\n",
       "      <td>3</td>\n",
       "      <td>_Jg-IA0M-GSjBlGu-wmejg</td>\n",
       "      <td>really disappointed recent visit Vintage 95 ma...</td>\n",
       "    </tr>\n",
       "    <tr>\n",
       "      <td>4</td>\n",
       "      <td>1CqkFliipv_X15WYn5aPfg</td>\n",
       "      <td>grade sushi restaurants 3 factors Quality Exce...</td>\n",
       "    </tr>\n",
       "  </tbody>\n",
       "</table>\n",
       "</div>"
      ],
      "text/plain": [
       "                  user_id                                               text\n",
       "0  ZwVz20be-hOZnyAbevyMyQ  Came town country concert better way start day...\n",
       "1  91TB-gzcNyxFh46TL0pmnQ  Best barbecue side Mississippi Come car washed...\n",
       "2  Y_QBiZpATJoz8hKUfYF66A  Absolutely amazing Think Chipotle enchiladas N...\n",
       "3  _Jg-IA0M-GSjBlGu-wmejg  really disappointed recent visit Vintage 95 ma...\n",
       "4  1CqkFliipv_X15WYn5aPfg  grade sushi restaurants 3 factors Quality Exce..."
      ]
     },
     "execution_count": 193,
     "metadata": {},
     "output_type": "execute_result"
    }
   ],
   "source": [
    "userid_df.head()"
   ]
  },
  {
   "cell_type": "code",
   "execution_count": 194,
   "metadata": {
    "ExecuteTime": {
     "end_time": "2019-11-19T06:45:11.982860Z",
     "start_time": "2019-11-19T06:45:11.973856Z"
    }
   },
   "outputs": [
    {
     "data": {
      "text/plain": [
       "0        Came town country concert better way start day...\n",
       "1098     Amazing Im golfer ended loving went family lov...\n",
       "3909     saw many great reviews place decided try high ...\n",
       "11491    Amazing Mexican Asian infusion good service sa...\n",
       "19647    beautiful hotel excellent service Nick front a...\n",
       "Name: text, dtype: object"
      ]
     },
     "execution_count": 194,
     "metadata": {},
     "output_type": "execute_result"
    }
   ],
   "source": [
    "userid_df[userid_df['user_id']=='ZwVz20be-hOZnyAbevyMyQ']['text']"
   ]
  },
  {
   "cell_type": "code",
   "execution_count": 195,
   "metadata": {
    "ExecuteTime": {
     "end_time": "2019-11-19T06:45:13.208948Z",
     "start_time": "2019-11-19T06:45:13.199931Z"
    }
   },
   "outputs": [
    {
     "data": {
      "text/html": [
       "<div>\n",
       "<style scoped>\n",
       "    .dataframe tbody tr th:only-of-type {\n",
       "        vertical-align: middle;\n",
       "    }\n",
       "\n",
       "    .dataframe tbody tr th {\n",
       "        vertical-align: top;\n",
       "    }\n",
       "\n",
       "    .dataframe thead th {\n",
       "        text-align: right;\n",
       "    }\n",
       "</style>\n",
       "<table border=\"1\" class=\"dataframe\">\n",
       "  <thead>\n",
       "    <tr style=\"text-align: right;\">\n",
       "      <th></th>\n",
       "      <th>business_id</th>\n",
       "      <th>text</th>\n",
       "    </tr>\n",
       "  </thead>\n",
       "  <tbody>\n",
       "    <tr>\n",
       "      <td>0</td>\n",
       "      <td>2c9Vptks_vowLgVUMnCgjw</td>\n",
       "      <td>Came town country concert better way start day...</td>\n",
       "    </tr>\n",
       "    <tr>\n",
       "      <td>1</td>\n",
       "      <td>6nKR80xEGHYf2UxAe_Cu_g</td>\n",
       "      <td>Best barbecue side Mississippi Come car washed...</td>\n",
       "    </tr>\n",
       "    <tr>\n",
       "      <td>2</td>\n",
       "      <td>fbQaKW0Lte0JQ_opbnjdKg</td>\n",
       "      <td>Absolutely amazing Think Chipotle enchiladas N...</td>\n",
       "    </tr>\n",
       "    <tr>\n",
       "      <td>3</td>\n",
       "      <td>r8764MtYyt8JhxMvrfM_xQ</td>\n",
       "      <td>really disappointed recent visit Vintage 95 ma...</td>\n",
       "    </tr>\n",
       "    <tr>\n",
       "      <td>4</td>\n",
       "      <td>QS3QxI7u5PRdtbGgI0-UsA</td>\n",
       "      <td>grade sushi restaurants 3 factors Quality Exce...</td>\n",
       "    </tr>\n",
       "  </tbody>\n",
       "</table>\n",
       "</div>"
      ],
      "text/plain": [
       "              business_id                                               text\n",
       "0  2c9Vptks_vowLgVUMnCgjw  Came town country concert better way start day...\n",
       "1  6nKR80xEGHYf2UxAe_Cu_g  Best barbecue side Mississippi Come car washed...\n",
       "2  fbQaKW0Lte0JQ_opbnjdKg  Absolutely amazing Think Chipotle enchiladas N...\n",
       "3  r8764MtYyt8JhxMvrfM_xQ  really disappointed recent visit Vintage 95 ma...\n",
       "4  QS3QxI7u5PRdtbGgI0-UsA  grade sushi restaurants 3 factors Quality Exce..."
      ]
     },
     "execution_count": 195,
     "metadata": {},
     "output_type": "execute_result"
    }
   ],
   "source": [
    "business_df.head()"
   ]
  },
  {
   "cell_type": "markdown",
   "metadata": {},
   "source": [
    "### Join the text with for each user_id and business_id"
   ]
  },
  {
   "cell_type": "code",
   "execution_count": 196,
   "metadata": {
    "ExecuteTime": {
     "end_time": "2019-11-19T06:45:17.248482Z",
     "start_time": "2019-11-19T06:45:16.985280Z"
    }
   },
   "outputs": [],
   "source": [
    "userid_df = userid_df.groupby('user_id').agg({'text': ' '.join})\n",
    "business_df = business_df.groupby('business_id').agg({'text': ' '.join})"
   ]
  },
  {
   "cell_type": "code",
   "execution_count": 188,
   "metadata": {
    "ExecuteTime": {
     "end_time": "2019-11-19T06:44:03.812393Z",
     "start_time": "2019-11-19T06:44:03.803405Z"
    }
   },
   "outputs": [
    {
     "data": {
      "text/html": [
       "<div>\n",
       "<style scoped>\n",
       "    .dataframe tbody tr th:only-of-type {\n",
       "        vertical-align: middle;\n",
       "    }\n",
       "\n",
       "    .dataframe tbody tr th {\n",
       "        vertical-align: top;\n",
       "    }\n",
       "\n",
       "    .dataframe thead th {\n",
       "        text-align: right;\n",
       "    }\n",
       "</style>\n",
       "<table border=\"1\" class=\"dataframe\">\n",
       "  <thead>\n",
       "    <tr style=\"text-align: right;\">\n",
       "      <th></th>\n",
       "      <th>text</th>\n",
       "    </tr>\n",
       "    <tr>\n",
       "      <th>user_id</th>\n",
       "      <th></th>\n",
       "    </tr>\n",
       "  </thead>\n",
       "  <tbody>\n",
       "    <tr>\n",
       "      <td>--2HUmLkcNHZp0xw6AMBPg</td>\n",
       "      <td>place JAM Surfer vibe great eats love machaca ...</td>\n",
       "    </tr>\n",
       "    <tr>\n",
       "      <td>--4rAAfZnEIAKJE80aIiYg</td>\n",
       "      <td>pulled pork spicy bbq sauce impressed Probably...</td>\n",
       "    </tr>\n",
       "    <tr>\n",
       "      <td>--Nnm_506G_p8MxAOQna5w</td>\n",
       "      <td>Cant say burger anything special Taste ok Shak...</td>\n",
       "    </tr>\n",
       "    <tr>\n",
       "      <td>--ty7Z9fEt08E3dS3_qoSA</td>\n",
       "      <td>know think important trust Yelp kind reviews t...</td>\n",
       "    </tr>\n",
       "    <tr>\n",
       "      <td>-0IiMAZI2SsQ7VmyzJjokQ</td>\n",
       "      <td>Ever fan roadside attractions Americana Id rea...</td>\n",
       "    </tr>\n",
       "  </tbody>\n",
       "</table>\n",
       "</div>"
      ],
      "text/plain": [
       "                                                                     text\n",
       "user_id                                                                  \n",
       "--2HUmLkcNHZp0xw6AMBPg  place JAM Surfer vibe great eats love machaca ...\n",
       "--4rAAfZnEIAKJE80aIiYg  pulled pork spicy bbq sauce impressed Probably...\n",
       "--Nnm_506G_p8MxAOQna5w  Cant say burger anything special Taste ok Shak...\n",
       "--ty7Z9fEt08E3dS3_qoSA  know think important trust Yelp kind reviews t...\n",
       "-0IiMAZI2SsQ7VmyzJjokQ  Ever fan roadside attractions Americana Id rea..."
      ]
     },
     "execution_count": 188,
     "metadata": {},
     "output_type": "execute_result"
    }
   ],
   "source": [
    "userid_df.head()"
   ]
  },
  {
   "cell_type": "code",
   "execution_count": 201,
   "metadata": {
    "ExecuteTime": {
     "end_time": "2019-11-19T06:47:20.820896Z",
     "start_time": "2019-11-19T06:47:20.812893Z"
    }
   },
   "outputs": [
    {
     "data": {
      "text/plain": [
       "'Came town country concert better way start day Everything great service amazing time walked door sat table surprise beer whiskey tap table pay ounce screen show drank food great whiskey burger favorite country fans must Scottsdale Amazing Im golfer ended loving went family loves golf planned staying hour since golf 6 hours later left far drive place right food amazing expect good brisket tacos chorizo sliders favorite Good quality food many unique items highly recommend place people ages teens loved bays nice roomy 7 us bay 10 people must try back soon saw many great reviews place decided try high hopes loved atmosphere kids loved Texas trivia game thats good thing could say steak came cooked way asked took back fix steak flavor covered butter thought steak even kids eat theres waitress asked daughter something wrong since ate bites explained like said ok walked away shrimp good pricey bugers ok end pushing us take home since ate almost none politely declined still came boxes trying get us take chicken fried chicken daughters friend ordered another item thatcwas horrible gravy flavor tasted piece fatty pulled skin even look fully cooked Maybe night knows pricey quality food recieved Nothing flavor guess thats sauces spices table Amazing Mexican Asian infusion good service saw driving Im glad stopped Everything amazing tried lot Order many plates share everything worth trying Blanca server great help suggestions making sure everything needed patient kept adding Come hungry much try mexican street corn popcorn amazing steak pepita torta mouth watering rolla chingon amazing unique korean tacos must Love atmosphere eclectic place lots choose including drinks loaded mule refreshing tres leches cake Im eating right say Wow beautiful hotel excellent service Nick front accommodating needs cheer competition course girls forgot stuff got us needed items suggested places pick rest rooms nice extremely clean reason gave four stars parking situation onsite parking except vallet 3000 night Makes difficult staying downtown Im assuming case hotels area shop everything could need cafe convenient food toom service excellent Terrance pool area great place gather friends relax definitely back highly recommend hotel'"
      ]
     },
     "execution_count": 201,
     "metadata": {},
     "output_type": "execute_result"
    }
   ],
   "source": [
    "userid_df.loc['ZwVz20be-hOZnyAbevyMyQ']['text']"
   ]
  },
  {
   "cell_type": "markdown",
   "metadata": {},
   "source": [
    "## User Tfidf Vectorizer with 5000 Features (represent 88% of all words)"
   ]
  },
  {
   "cell_type": "code",
   "execution_count": 202,
   "metadata": {
    "ExecuteTime": {
     "end_time": "2019-11-19T06:48:25.599924Z",
     "start_time": "2019-11-19T06:48:25.595923Z"
    }
   },
   "outputs": [],
   "source": [
    "from sklearn.feature_extraction.text import TfidfVectorizer"
   ]
  },
  {
   "cell_type": "code",
   "execution_count": 203,
   "metadata": {
    "ExecuteTime": {
     "end_time": "2019-11-19T06:48:31.453879Z",
     "start_time": "2019-11-19T06:48:29.668998Z"
    }
   },
   "outputs": [
    {
     "data": {
      "text/plain": [
       "(10937, 5000)"
      ]
     },
     "execution_count": 203,
     "metadata": {},
     "output_type": "execute_result"
    }
   ],
   "source": [
    "#userid vectorizer\n",
    "userid_vectorizer = TfidfVectorizer(tokenizer = WordPunctTokenizer().tokenize, max_features=5000)\n",
    "userid_vectors = userid_vectorizer.fit_transform(userid_df['text'])\n",
    "userid_vectors.shape"
   ]
  },
  {
   "cell_type": "code",
   "execution_count": 204,
   "metadata": {
    "ExecuteTime": {
     "end_time": "2019-11-19T06:48:31.461882Z",
     "start_time": "2019-11-19T06:48:31.455882Z"
    }
   },
   "outputs": [
    {
     "data": {
      "text/plain": [
       "<10937x5000 sparse matrix of type '<class 'numpy.float64'>'\n",
       "\twith 1083887 stored elements in Compressed Sparse Row format>"
      ]
     },
     "execution_count": 204,
     "metadata": {},
     "output_type": "execute_result"
    }
   ],
   "source": [
    "userid_vectors"
   ]
  },
  {
   "cell_type": "code",
   "execution_count": 205,
   "metadata": {
    "ExecuteTime": {
     "end_time": "2019-11-19T06:48:33.259848Z",
     "start_time": "2019-11-19T06:48:31.464894Z"
    }
   },
   "outputs": [
    {
     "data": {
      "text/plain": [
       "(1411, 5000)"
      ]
     },
     "execution_count": 205,
     "metadata": {},
     "output_type": "execute_result"
    }
   ],
   "source": [
    "#Business id vectorizer\n",
    "businessid_vectorizer = TfidfVectorizer(tokenizer = WordPunctTokenizer().tokenize, max_features=5000)\n",
    "businessid_vectors = businessid_vectorizer.fit_transform(business_df['text'])\n",
    "businessid_vectors.shape"
   ]
  },
  {
   "cell_type": "markdown",
   "metadata": {},
   "source": [
    "# Matrix Factorization"
   ]
  },
  {
   "cell_type": "code",
   "execution_count": 150,
   "metadata": {
    "ExecuteTime": {
     "end_time": "2019-11-19T04:46:25.934908Z",
     "start_time": "2019-11-19T04:46:25.511878Z"
    }
   },
   "outputs": [
    {
     "data": {
      "text/plain": [
       "(10937, 1411)"
      ]
     },
     "execution_count": 150,
     "metadata": {},
     "output_type": "execute_result"
    }
   ],
   "source": [
    "userid_rating_matrix = pd.pivot_table(yelp_data, values='stars', index=['user_id'], columns=['business_id'])\n",
    "userid_rating_matrix.shape"
   ]
  },
  {
   "cell_type": "code",
   "execution_count": 151,
   "metadata": {
    "ExecuteTime": {
     "end_time": "2019-11-19T04:46:25.976912Z",
     "start_time": "2019-11-19T04:46:25.937908Z"
    }
   },
   "outputs": [
    {
     "data": {
      "text/html": [
       "<div>\n",
       "<style scoped>\n",
       "    .dataframe tbody tr th:only-of-type {\n",
       "        vertical-align: middle;\n",
       "    }\n",
       "\n",
       "    .dataframe tbody tr th {\n",
       "        vertical-align: top;\n",
       "    }\n",
       "\n",
       "    .dataframe thead th {\n",
       "        text-align: right;\n",
       "    }\n",
       "</style>\n",
       "<table border=\"1\" class=\"dataframe\">\n",
       "  <thead>\n",
       "    <tr style=\"text-align: right;\">\n",
       "      <th>business_id</th>\n",
       "      <th>-050d_XIor1NpCuWkbIVaQ</th>\n",
       "      <th>-1UMR00eXtwaeh59pEiDjA</th>\n",
       "      <th>-4TMQnQJW1yd6NqGRDvAeA</th>\n",
       "      <th>-6h3K1hj0d4DRcZNUtHDuw</th>\n",
       "      <th>-8QlV3b_9H4BAh6LgMIr1g</th>\n",
       "      <th>-9eNGMp8XiygI8t8QFuFWw</th>\n",
       "      <th>-9nai28tnoylwViuJVrYEQ</th>\n",
       "      <th>-Bdw-5H5C4AYSMGnAvmnzw</th>\n",
       "      <th>-BxWyEIQ6wypT-37MzZizQ</th>\n",
       "      <th>-CfFjcCcGGDM9MVH_d42RQ</th>\n",
       "      <th>...</th>\n",
       "      <th>z_lDO8d8nkSmcvTjB4N69A</th>\n",
       "      <th>za9qr9ZZWLTfEgTfogRbUw</th>\n",
       "      <th>zbrFk-4ejesAJD8EwcdHxg</th>\n",
       "      <th>zfiSQ1dl3vTJ-og96eqXGA</th>\n",
       "      <th>zidkKI_N1OPxsiddTOQH_Q</th>\n",
       "      <th>zqNgwQjj0_XAll-neGikIw</th>\n",
       "      <th>zr93wrNyXzc-HW4IcK4iRQ</th>\n",
       "      <th>zrDi4gEaUi64lAMfJU51dw</th>\n",
       "      <th>zrTGcb83AsfyVTMrsCa65A</th>\n",
       "      <th>zuVvDYJkKAbXQTTBauAqJQ</th>\n",
       "    </tr>\n",
       "    <tr>\n",
       "      <th>user_id</th>\n",
       "      <th></th>\n",
       "      <th></th>\n",
       "      <th></th>\n",
       "      <th></th>\n",
       "      <th></th>\n",
       "      <th></th>\n",
       "      <th></th>\n",
       "      <th></th>\n",
       "      <th></th>\n",
       "      <th></th>\n",
       "      <th></th>\n",
       "      <th></th>\n",
       "      <th></th>\n",
       "      <th></th>\n",
       "      <th></th>\n",
       "      <th></th>\n",
       "      <th></th>\n",
       "      <th></th>\n",
       "      <th></th>\n",
       "      <th></th>\n",
       "      <th></th>\n",
       "    </tr>\n",
       "  </thead>\n",
       "  <tbody>\n",
       "    <tr>\n",
       "      <td>--2HUmLkcNHZp0xw6AMBPg</td>\n",
       "      <td>NaN</td>\n",
       "      <td>NaN</td>\n",
       "      <td>NaN</td>\n",
       "      <td>NaN</td>\n",
       "      <td>NaN</td>\n",
       "      <td>NaN</td>\n",
       "      <td>NaN</td>\n",
       "      <td>NaN</td>\n",
       "      <td>NaN</td>\n",
       "      <td>NaN</td>\n",
       "      <td>...</td>\n",
       "      <td>NaN</td>\n",
       "      <td>NaN</td>\n",
       "      <td>NaN</td>\n",
       "      <td>NaN</td>\n",
       "      <td>NaN</td>\n",
       "      <td>NaN</td>\n",
       "      <td>NaN</td>\n",
       "      <td>NaN</td>\n",
       "      <td>NaN</td>\n",
       "      <td>NaN</td>\n",
       "    </tr>\n",
       "    <tr>\n",
       "      <td>--4rAAfZnEIAKJE80aIiYg</td>\n",
       "      <td>NaN</td>\n",
       "      <td>NaN</td>\n",
       "      <td>NaN</td>\n",
       "      <td>NaN</td>\n",
       "      <td>NaN</td>\n",
       "      <td>NaN</td>\n",
       "      <td>NaN</td>\n",
       "      <td>NaN</td>\n",
       "      <td>NaN</td>\n",
       "      <td>NaN</td>\n",
       "      <td>...</td>\n",
       "      <td>NaN</td>\n",
       "      <td>NaN</td>\n",
       "      <td>NaN</td>\n",
       "      <td>NaN</td>\n",
       "      <td>NaN</td>\n",
       "      <td>NaN</td>\n",
       "      <td>NaN</td>\n",
       "      <td>NaN</td>\n",
       "      <td>NaN</td>\n",
       "      <td>NaN</td>\n",
       "    </tr>\n",
       "    <tr>\n",
       "      <td>--Nnm_506G_p8MxAOQna5w</td>\n",
       "      <td>NaN</td>\n",
       "      <td>NaN</td>\n",
       "      <td>NaN</td>\n",
       "      <td>NaN</td>\n",
       "      <td>NaN</td>\n",
       "      <td>NaN</td>\n",
       "      <td>NaN</td>\n",
       "      <td>NaN</td>\n",
       "      <td>NaN</td>\n",
       "      <td>NaN</td>\n",
       "      <td>...</td>\n",
       "      <td>NaN</td>\n",
       "      <td>NaN</td>\n",
       "      <td>NaN</td>\n",
       "      <td>NaN</td>\n",
       "      <td>NaN</td>\n",
       "      <td>NaN</td>\n",
       "      <td>NaN</td>\n",
       "      <td>NaN</td>\n",
       "      <td>NaN</td>\n",
       "      <td>NaN</td>\n",
       "    </tr>\n",
       "    <tr>\n",
       "      <td>--ty7Z9fEt08E3dS3_qoSA</td>\n",
       "      <td>NaN</td>\n",
       "      <td>NaN</td>\n",
       "      <td>NaN</td>\n",
       "      <td>NaN</td>\n",
       "      <td>NaN</td>\n",
       "      <td>NaN</td>\n",
       "      <td>NaN</td>\n",
       "      <td>NaN</td>\n",
       "      <td>NaN</td>\n",
       "      <td>NaN</td>\n",
       "      <td>...</td>\n",
       "      <td>NaN</td>\n",
       "      <td>NaN</td>\n",
       "      <td>NaN</td>\n",
       "      <td>NaN</td>\n",
       "      <td>NaN</td>\n",
       "      <td>NaN</td>\n",
       "      <td>NaN</td>\n",
       "      <td>NaN</td>\n",
       "      <td>NaN</td>\n",
       "      <td>NaN</td>\n",
       "    </tr>\n",
       "    <tr>\n",
       "      <td>-0IiMAZI2SsQ7VmyzJjokQ</td>\n",
       "      <td>NaN</td>\n",
       "      <td>NaN</td>\n",
       "      <td>NaN</td>\n",
       "      <td>NaN</td>\n",
       "      <td>NaN</td>\n",
       "      <td>NaN</td>\n",
       "      <td>NaN</td>\n",
       "      <td>NaN</td>\n",
       "      <td>NaN</td>\n",
       "      <td>NaN</td>\n",
       "      <td>...</td>\n",
       "      <td>NaN</td>\n",
       "      <td>NaN</td>\n",
       "      <td>NaN</td>\n",
       "      <td>NaN</td>\n",
       "      <td>NaN</td>\n",
       "      <td>NaN</td>\n",
       "      <td>NaN</td>\n",
       "      <td>NaN</td>\n",
       "      <td>NaN</td>\n",
       "      <td>NaN</td>\n",
       "    </tr>\n",
       "  </tbody>\n",
       "</table>\n",
       "<p>5 rows × 1411 columns</p>\n",
       "</div>"
      ],
      "text/plain": [
       "business_id             -050d_XIor1NpCuWkbIVaQ  -1UMR00eXtwaeh59pEiDjA  \\\n",
       "user_id                                                                  \n",
       "--2HUmLkcNHZp0xw6AMBPg                     NaN                     NaN   \n",
       "--4rAAfZnEIAKJE80aIiYg                     NaN                     NaN   \n",
       "--Nnm_506G_p8MxAOQna5w                     NaN                     NaN   \n",
       "--ty7Z9fEt08E3dS3_qoSA                     NaN                     NaN   \n",
       "-0IiMAZI2SsQ7VmyzJjokQ                     NaN                     NaN   \n",
       "\n",
       "business_id             -4TMQnQJW1yd6NqGRDvAeA  -6h3K1hj0d4DRcZNUtHDuw  \\\n",
       "user_id                                                                  \n",
       "--2HUmLkcNHZp0xw6AMBPg                     NaN                     NaN   \n",
       "--4rAAfZnEIAKJE80aIiYg                     NaN                     NaN   \n",
       "--Nnm_506G_p8MxAOQna5w                     NaN                     NaN   \n",
       "--ty7Z9fEt08E3dS3_qoSA                     NaN                     NaN   \n",
       "-0IiMAZI2SsQ7VmyzJjokQ                     NaN                     NaN   \n",
       "\n",
       "business_id             -8QlV3b_9H4BAh6LgMIr1g  -9eNGMp8XiygI8t8QFuFWw  \\\n",
       "user_id                                                                  \n",
       "--2HUmLkcNHZp0xw6AMBPg                     NaN                     NaN   \n",
       "--4rAAfZnEIAKJE80aIiYg                     NaN                     NaN   \n",
       "--Nnm_506G_p8MxAOQna5w                     NaN                     NaN   \n",
       "--ty7Z9fEt08E3dS3_qoSA                     NaN                     NaN   \n",
       "-0IiMAZI2SsQ7VmyzJjokQ                     NaN                     NaN   \n",
       "\n",
       "business_id             -9nai28tnoylwViuJVrYEQ  -Bdw-5H5C4AYSMGnAvmnzw  \\\n",
       "user_id                                                                  \n",
       "--2HUmLkcNHZp0xw6AMBPg                     NaN                     NaN   \n",
       "--4rAAfZnEIAKJE80aIiYg                     NaN                     NaN   \n",
       "--Nnm_506G_p8MxAOQna5w                     NaN                     NaN   \n",
       "--ty7Z9fEt08E3dS3_qoSA                     NaN                     NaN   \n",
       "-0IiMAZI2SsQ7VmyzJjokQ                     NaN                     NaN   \n",
       "\n",
       "business_id             -BxWyEIQ6wypT-37MzZizQ  -CfFjcCcGGDM9MVH_d42RQ  ...  \\\n",
       "user_id                                                                 ...   \n",
       "--2HUmLkcNHZp0xw6AMBPg                     NaN                     NaN  ...   \n",
       "--4rAAfZnEIAKJE80aIiYg                     NaN                     NaN  ...   \n",
       "--Nnm_506G_p8MxAOQna5w                     NaN                     NaN  ...   \n",
       "--ty7Z9fEt08E3dS3_qoSA                     NaN                     NaN  ...   \n",
       "-0IiMAZI2SsQ7VmyzJjokQ                     NaN                     NaN  ...   \n",
       "\n",
       "business_id             z_lDO8d8nkSmcvTjB4N69A  za9qr9ZZWLTfEgTfogRbUw  \\\n",
       "user_id                                                                  \n",
       "--2HUmLkcNHZp0xw6AMBPg                     NaN                     NaN   \n",
       "--4rAAfZnEIAKJE80aIiYg                     NaN                     NaN   \n",
       "--Nnm_506G_p8MxAOQna5w                     NaN                     NaN   \n",
       "--ty7Z9fEt08E3dS3_qoSA                     NaN                     NaN   \n",
       "-0IiMAZI2SsQ7VmyzJjokQ                     NaN                     NaN   \n",
       "\n",
       "business_id             zbrFk-4ejesAJD8EwcdHxg  zfiSQ1dl3vTJ-og96eqXGA  \\\n",
       "user_id                                                                  \n",
       "--2HUmLkcNHZp0xw6AMBPg                     NaN                     NaN   \n",
       "--4rAAfZnEIAKJE80aIiYg                     NaN                     NaN   \n",
       "--Nnm_506G_p8MxAOQna5w                     NaN                     NaN   \n",
       "--ty7Z9fEt08E3dS3_qoSA                     NaN                     NaN   \n",
       "-0IiMAZI2SsQ7VmyzJjokQ                     NaN                     NaN   \n",
       "\n",
       "business_id             zidkKI_N1OPxsiddTOQH_Q  zqNgwQjj0_XAll-neGikIw  \\\n",
       "user_id                                                                  \n",
       "--2HUmLkcNHZp0xw6AMBPg                     NaN                     NaN   \n",
       "--4rAAfZnEIAKJE80aIiYg                     NaN                     NaN   \n",
       "--Nnm_506G_p8MxAOQna5w                     NaN                     NaN   \n",
       "--ty7Z9fEt08E3dS3_qoSA                     NaN                     NaN   \n",
       "-0IiMAZI2SsQ7VmyzJjokQ                     NaN                     NaN   \n",
       "\n",
       "business_id             zr93wrNyXzc-HW4IcK4iRQ  zrDi4gEaUi64lAMfJU51dw  \\\n",
       "user_id                                                                  \n",
       "--2HUmLkcNHZp0xw6AMBPg                     NaN                     NaN   \n",
       "--4rAAfZnEIAKJE80aIiYg                     NaN                     NaN   \n",
       "--Nnm_506G_p8MxAOQna5w                     NaN                     NaN   \n",
       "--ty7Z9fEt08E3dS3_qoSA                     NaN                     NaN   \n",
       "-0IiMAZI2SsQ7VmyzJjokQ                     NaN                     NaN   \n",
       "\n",
       "business_id             zrTGcb83AsfyVTMrsCa65A  zuVvDYJkKAbXQTTBauAqJQ  \n",
       "user_id                                                                 \n",
       "--2HUmLkcNHZp0xw6AMBPg                     NaN                     NaN  \n",
       "--4rAAfZnEIAKJE80aIiYg                     NaN                     NaN  \n",
       "--Nnm_506G_p8MxAOQna5w                     NaN                     NaN  \n",
       "--ty7Z9fEt08E3dS3_qoSA                     NaN                     NaN  \n",
       "-0IiMAZI2SsQ7VmyzJjokQ                     NaN                     NaN  \n",
       "\n",
       "[5 rows x 1411 columns]"
      ]
     },
     "execution_count": 151,
     "metadata": {},
     "output_type": "execute_result"
    }
   ],
   "source": [
    "userid_rating_matrix.head()"
   ]
  },
  {
   "cell_type": "code",
   "execution_count": 152,
   "metadata": {
    "ExecuteTime": {
     "end_time": "2019-11-19T04:46:28.725506Z",
     "start_time": "2019-11-19T04:46:28.476488Z"
    }
   },
   "outputs": [],
   "source": [
    "P = pd.DataFrame(userid_vectors.toarray(), index=userid_df.index, columns=userid_vectorizer.get_feature_names())\n",
    "Q = pd.DataFrame(businessid_vectors.toarray(), index=business_df.index, columns=businessid_vectorizer.get_feature_names())"
   ]
  },
  {
   "cell_type": "code",
   "execution_count": 153,
   "metadata": {
    "ExecuteTime": {
     "end_time": "2019-11-19T04:46:28.787513Z",
     "start_time": "2019-11-19T04:46:28.761509Z"
    }
   },
   "outputs": [
    {
     "data": {
      "text/html": [
       "<div>\n",
       "<style scoped>\n",
       "    .dataframe tbody tr th:only-of-type {\n",
       "        vertical-align: middle;\n",
       "    }\n",
       "\n",
       "    .dataframe tbody tr th {\n",
       "        vertical-align: top;\n",
       "    }\n",
       "\n",
       "    .dataframe thead th {\n",
       "        text-align: right;\n",
       "    }\n",
       "</style>\n",
       "<table border=\"1\" class=\"dataframe\">\n",
       "  <thead>\n",
       "    <tr style=\"text-align: right;\">\n",
       "      <th></th>\n",
       "      <th>0</th>\n",
       "      <th>1</th>\n",
       "      <th>10</th>\n",
       "      <th>100</th>\n",
       "      <th>1000</th>\n",
       "      <th>101</th>\n",
       "      <th>1015</th>\n",
       "      <th>1030</th>\n",
       "      <th>10pm</th>\n",
       "      <th>11</th>\n",
       "      <th>...</th>\n",
       "      <th>z</th>\n",
       "      <th>zero</th>\n",
       "      <th>zest</th>\n",
       "      <th>zinburger</th>\n",
       "      <th>zinc</th>\n",
       "      <th>zipps</th>\n",
       "      <th>ziti</th>\n",
       "      <th>zookz</th>\n",
       "      <th>ztejas</th>\n",
       "      <th>zucchini</th>\n",
       "    </tr>\n",
       "    <tr>\n",
       "      <th>business_id</th>\n",
       "      <th></th>\n",
       "      <th></th>\n",
       "      <th></th>\n",
       "      <th></th>\n",
       "      <th></th>\n",
       "      <th></th>\n",
       "      <th></th>\n",
       "      <th></th>\n",
       "      <th></th>\n",
       "      <th></th>\n",
       "      <th></th>\n",
       "      <th></th>\n",
       "      <th></th>\n",
       "      <th></th>\n",
       "      <th></th>\n",
       "      <th></th>\n",
       "      <th></th>\n",
       "      <th></th>\n",
       "      <th></th>\n",
       "      <th></th>\n",
       "      <th></th>\n",
       "    </tr>\n",
       "  </thead>\n",
       "  <tbody>\n",
       "    <tr>\n",
       "      <td>-050d_XIor1NpCuWkbIVaQ</td>\n",
       "      <td>0.0</td>\n",
       "      <td>0.008223</td>\n",
       "      <td>0.007567</td>\n",
       "      <td>0.018716</td>\n",
       "      <td>0.0</td>\n",
       "      <td>0.0</td>\n",
       "      <td>0.0</td>\n",
       "      <td>0.01094</td>\n",
       "      <td>0.0</td>\n",
       "      <td>0.0</td>\n",
       "      <td>...</td>\n",
       "      <td>0.0</td>\n",
       "      <td>0.0</td>\n",
       "      <td>0.0</td>\n",
       "      <td>0.0</td>\n",
       "      <td>0.0</td>\n",
       "      <td>0.0</td>\n",
       "      <td>0.0</td>\n",
       "      <td>0.0</td>\n",
       "      <td>0.0</td>\n",
       "      <td>0.0</td>\n",
       "    </tr>\n",
       "    <tr>\n",
       "      <td>-1UMR00eXtwaeh59pEiDjA</td>\n",
       "      <td>0.0</td>\n",
       "      <td>0.000000</td>\n",
       "      <td>0.000000</td>\n",
       "      <td>0.000000</td>\n",
       "      <td>0.0</td>\n",
       "      <td>0.0</td>\n",
       "      <td>0.0</td>\n",
       "      <td>0.00000</td>\n",
       "      <td>0.0</td>\n",
       "      <td>0.0</td>\n",
       "      <td>...</td>\n",
       "      <td>0.0</td>\n",
       "      <td>0.0</td>\n",
       "      <td>0.0</td>\n",
       "      <td>0.0</td>\n",
       "      <td>0.0</td>\n",
       "      <td>0.0</td>\n",
       "      <td>0.0</td>\n",
       "      <td>0.0</td>\n",
       "      <td>0.0</td>\n",
       "      <td>0.0</td>\n",
       "    </tr>\n",
       "    <tr>\n",
       "      <td>-4TMQnQJW1yd6NqGRDvAeA</td>\n",
       "      <td>0.0</td>\n",
       "      <td>0.000000</td>\n",
       "      <td>0.000000</td>\n",
       "      <td>0.000000</td>\n",
       "      <td>0.0</td>\n",
       "      <td>0.0</td>\n",
       "      <td>0.0</td>\n",
       "      <td>0.00000</td>\n",
       "      <td>0.0</td>\n",
       "      <td>0.0</td>\n",
       "      <td>...</td>\n",
       "      <td>0.0</td>\n",
       "      <td>0.0</td>\n",
       "      <td>0.0</td>\n",
       "      <td>0.0</td>\n",
       "      <td>0.0</td>\n",
       "      <td>0.0</td>\n",
       "      <td>0.0</td>\n",
       "      <td>0.0</td>\n",
       "      <td>0.0</td>\n",
       "      <td>0.0</td>\n",
       "    </tr>\n",
       "    <tr>\n",
       "      <td>-6h3K1hj0d4DRcZNUtHDuw</td>\n",
       "      <td>0.0</td>\n",
       "      <td>0.028893</td>\n",
       "      <td>0.026588</td>\n",
       "      <td>0.000000</td>\n",
       "      <td>0.0</td>\n",
       "      <td>0.0</td>\n",
       "      <td>0.0</td>\n",
       "      <td>0.00000</td>\n",
       "      <td>0.0</td>\n",
       "      <td>0.0</td>\n",
       "      <td>...</td>\n",
       "      <td>0.0</td>\n",
       "      <td>0.0</td>\n",
       "      <td>0.0</td>\n",
       "      <td>0.0</td>\n",
       "      <td>0.0</td>\n",
       "      <td>0.0</td>\n",
       "      <td>0.0</td>\n",
       "      <td>0.0</td>\n",
       "      <td>0.0</td>\n",
       "      <td>0.0</td>\n",
       "    </tr>\n",
       "    <tr>\n",
       "      <td>-8QlV3b_9H4BAh6LgMIr1g</td>\n",
       "      <td>0.0</td>\n",
       "      <td>0.000000</td>\n",
       "      <td>0.017147</td>\n",
       "      <td>0.000000</td>\n",
       "      <td>0.0</td>\n",
       "      <td>0.0</td>\n",
       "      <td>0.0</td>\n",
       "      <td>0.00000</td>\n",
       "      <td>0.0</td>\n",
       "      <td>0.0</td>\n",
       "      <td>...</td>\n",
       "      <td>0.0</td>\n",
       "      <td>0.0</td>\n",
       "      <td>0.0</td>\n",
       "      <td>0.0</td>\n",
       "      <td>0.0</td>\n",
       "      <td>0.0</td>\n",
       "      <td>0.0</td>\n",
       "      <td>0.0</td>\n",
       "      <td>0.0</td>\n",
       "      <td>0.0</td>\n",
       "    </tr>\n",
       "  </tbody>\n",
       "</table>\n",
       "<p>5 rows × 5000 columns</p>\n",
       "</div>"
      ],
      "text/plain": [
       "                          0         1        10       100  1000  101  1015  \\\n",
       "business_id                                                                  \n",
       "-050d_XIor1NpCuWkbIVaQ  0.0  0.008223  0.007567  0.018716   0.0  0.0   0.0   \n",
       "-1UMR00eXtwaeh59pEiDjA  0.0  0.000000  0.000000  0.000000   0.0  0.0   0.0   \n",
       "-4TMQnQJW1yd6NqGRDvAeA  0.0  0.000000  0.000000  0.000000   0.0  0.0   0.0   \n",
       "-6h3K1hj0d4DRcZNUtHDuw  0.0  0.028893  0.026588  0.000000   0.0  0.0   0.0   \n",
       "-8QlV3b_9H4BAh6LgMIr1g  0.0  0.000000  0.017147  0.000000   0.0  0.0   0.0   \n",
       "\n",
       "                           1030  10pm   11  ...    z  zero  zest  zinburger  \\\n",
       "business_id                                 ...                               \n",
       "-050d_XIor1NpCuWkbIVaQ  0.01094   0.0  0.0  ...  0.0   0.0   0.0        0.0   \n",
       "-1UMR00eXtwaeh59pEiDjA  0.00000   0.0  0.0  ...  0.0   0.0   0.0        0.0   \n",
       "-4TMQnQJW1yd6NqGRDvAeA  0.00000   0.0  0.0  ...  0.0   0.0   0.0        0.0   \n",
       "-6h3K1hj0d4DRcZNUtHDuw  0.00000   0.0  0.0  ...  0.0   0.0   0.0        0.0   \n",
       "-8QlV3b_9H4BAh6LgMIr1g  0.00000   0.0  0.0  ...  0.0   0.0   0.0        0.0   \n",
       "\n",
       "                        zinc  zipps  ziti  zookz  ztejas  zucchini  \n",
       "business_id                                                         \n",
       "-050d_XIor1NpCuWkbIVaQ   0.0    0.0   0.0    0.0     0.0       0.0  \n",
       "-1UMR00eXtwaeh59pEiDjA   0.0    0.0   0.0    0.0     0.0       0.0  \n",
       "-4TMQnQJW1yd6NqGRDvAeA   0.0    0.0   0.0    0.0     0.0       0.0  \n",
       "-6h3K1hj0d4DRcZNUtHDuw   0.0    0.0   0.0    0.0     0.0       0.0  \n",
       "-8QlV3b_9H4BAh6LgMIr1g   0.0    0.0   0.0    0.0     0.0       0.0  \n",
       "\n",
       "[5 rows x 5000 columns]"
      ]
     },
     "execution_count": 153,
     "metadata": {},
     "output_type": "execute_result"
    }
   ],
   "source": [
    "Q.head()"
   ]
  },
  {
   "cell_type": "markdown",
   "metadata": {},
   "source": [
    "## Gradient Decent Optimization"
   ]
  },
  {
   "cell_type": "code",
   "execution_count": 154,
   "metadata": {
    "ExecuteTime": {
     "end_time": "2019-11-19T04:46:44.713556Z",
     "start_time": "2019-11-19T04:46:44.701556Z"
    }
   },
   "outputs": [],
   "source": [
    "def matrix_factorization(R, P, Q, steps=5, gamma=0.001,lamda=0.02):\n",
    "    for step in range(steps):\n",
    "        for i in R.index:\n",
    "            for j in R.columns:\n",
    "                if R.loc[i,j]>0:\n",
    "                    eij=R.loc[i,j]-np.dot(P.loc[i],Q.loc[j])\n",
    "                    P.loc[i]=P.loc[i]+gamma*(eij*Q.loc[j]-lamda*P.loc[i])\n",
    "                    Q.loc[j]=Q.loc[j]+gamma*(eij*P.loc[i]-lamda*Q.loc[j])\n",
    "        e=0\n",
    "        for i in R.index:\n",
    "            for j in R.columns:\n",
    "                if R.loc[i,j]>0:\n",
    "                    e= e + pow(R.loc[i,j]-np.dot(P.loc[i],Q.loc[j]),2)+lamda*(pow(np.linalg.norm(P.loc[i]),2)+pow(np.linalg.norm(Q.loc[j]),2))\n",
    "        if e<0.001:\n",
    "            break\n",
    "        \n",
    "    return P,Q"
   ]
  },
  {
   "cell_type": "code",
   "execution_count": 155,
   "metadata": {
    "ExecuteTime": {
     "end_time": "2019-11-19T05:56:36.317993Z",
     "start_time": "2019-11-19T04:46:46.061545Z"
    }
   },
   "outputs": [
    {
     "name": "stdout",
     "output_type": "stream",
     "text": [
      "Wall time: 1h 9min 50s\n"
     ]
    }
   ],
   "source": [
    "%%time\n",
    "P, Q = matrix_factorization(userid_rating_matrix, P, Q, steps=5, gamma=0.001,lamda=0.02)"
   ]
  },
  {
   "cell_type": "markdown",
   "metadata": {},
   "source": [
    "### Export Model"
   ]
  },
  {
   "cell_type": "code",
   "execution_count": 162,
   "metadata": {
    "ExecuteTime": {
     "end_time": "2019-11-19T06:02:32.982213Z",
     "start_time": "2019-11-19T06:02:31.246347Z"
    }
   },
   "outputs": [],
   "source": [
    "# Store P, Q and vectorizer in pickle file\n",
    "import pickle\n",
    "output = open('yelp_recommendation_model_7.pkl', 'wb')\n",
    "pickle.dump(P,output)\n",
    "pickle.dump(Q,output)\n",
    "pickle.dump(userid_vectorizer,output)\n",
    "output.close()"
   ]
  },
  {
   "cell_type": "markdown",
   "metadata": {},
   "source": [
    "## Prediction for input text"
   ]
  },
  {
   "cell_type": "code",
   "execution_count": 161,
   "metadata": {
    "ExecuteTime": {
     "end_time": "2019-11-19T06:02:20.318732Z",
     "start_time": "2019-11-19T06:02:19.857406Z"
    }
   },
   "outputs": [
    {
     "name": "stdout",
     "output_type": "stream",
     "text": [
      "Isabella's Kitchen\n",
      "Bars, Nightlife, Beer, Wine & Spirits, Italian, Food, Restaurants\n",
      "3.5 259\n",
      "\n",
      "Compass Arizona Grill\n",
      "Nightlife, American (New), Bars, Restaurants, Lounges\n",
      "3.5 540\n",
      "\n",
      "Chart House\n",
      "Event Planning & Services, Restaurants, Venues & Event Spaces, American (Traditional), Seafood, Nightlife, Bars, Steakhouses, Wine Bars\n",
      "3.0 229\n",
      "\n",
      "Top of the Rock Restaurant\n",
      "Restaurants, American (New), Hotels & Travel, Event Planning & Services, Hotels\n",
      "3.5 325\n",
      "\n",
      "Orange Sky\n",
      "Seafood, Steakhouses, American (New), Restaurants\n",
      "4.0 562\n",
      "\n",
      "Different Pointe of View\n",
      "Restaurants, American (Traditional), Italian, Mediterranean, Resorts, Hotels & Travel\n",
      "4.0 512\n",
      "\n",
      "The Wrigley Mansion Club\n",
      "Breakfast & Brunch, Venues & Event Spaces, Restaurants, Nightlife, Music Venues, Arts & Entertainment, American (New), Event Planning & Services, Bars\n",
      "3.5 238\n",
      "\n"
     ]
    }
   ],
   "source": [
    "words = \"i want to have dinner with beautiful views\"\n",
    "test_df= pd.DataFrame([words], columns=['text'])\n",
    "test_df['text'] = test_df['text'].apply(text_process)\n",
    "test_vectors = userid_vectorizer.transform(test_df['text'])\n",
    "test_v_df = pd.DataFrame(test_vectors.toarray(), index=test_df.index, columns=userid_vectorizer.get_feature_names())\n",
    "\n",
    "predictItemRating=pd.DataFrame(np.dot(test_v_df.loc[0],Q.T),index=Q.index,columns=['Rating'])\n",
    "topRecommendations=pd.DataFrame.sort_values(predictItemRating,['Rating'],ascending=[0])[:7]\n",
    "\n",
    "for i in topRecommendations.index:\n",
    "    print(df_business[df_business['business_id']==i]['name'].iloc[0])\n",
    "    print(df_business[df_business['business_id']==i]['categories'].iloc[0])\n",
    "    print(str(df_business[df_business['business_id']==i]['stars'].iloc[0])+ ' '+str(df_business[df_business['business_id']==i]['review_count'].iloc[0]))\n",
    "    print('')\n"
   ]
  },
  {
   "cell_type": "markdown",
   "metadata": {},
   "source": [
    "## Prediction and Accuracy test on Validation set"
   ]
  },
  {
   "cell_type": "code",
   "execution_count": 144,
   "metadata": {
    "ExecuteTime": {
     "end_time": "2019-11-19T03:56:48.882120Z",
     "start_time": "2019-11-19T03:56:48.510095Z"
    }
   },
   "outputs": [],
   "source": [
    "import pickle\n",
    "f = open('yelp_recommendation_model_5.pkl', 'rb')\n",
    "P, Q, userid_vectorizer = pickle.load(f), pickle.load(f), pickle.load(f)"
   ]
  },
  {
   "cell_type": "code",
   "execution_count": 158,
   "metadata": {
    "ExecuteTime": {
     "end_time": "2019-11-19T06:01:34.338104Z",
     "start_time": "2019-11-19T06:01:33.313026Z"
    }
   },
   "outputs": [],
   "source": [
    "test_df = X_valid.to_frame()\n",
    "test_df['text'] = test_df['text'].apply(text_process)\n",
    "test_vectors = userid_vectorizer.transform(test_df['text'])\n",
    "test_v_df = pd.DataFrame(test_vectors.toarray(), index=test_df.index,\n",
    "                         columns=userid_vectorizer.get_feature_names())\n"
   ]
  },
  {
   "cell_type": "code",
   "execution_count": 159,
   "metadata": {
    "ExecuteTime": {
     "end_time": "2019-11-19T06:01:51.677445Z",
     "start_time": "2019-11-19T06:01:34.340107Z"
    }
   },
   "outputs": [],
   "source": [
    "y_pred = []\n",
    "for key, row in test_v_df.iterrows():\n",
    "    predictItemRating=pd.DataFrame(np.dot(row,Q.T),index=Q.index,columns=['Rating'])\n",
    "    topRecommendations=pd.DataFrame.sort_values(predictItemRating,['Rating'],ascending=[0])[:1]\n",
    "    y_pred.append(topRecommendations.index[0])"
   ]
  },
  {
   "cell_type": "code",
   "execution_count": 63,
   "metadata": {
    "ExecuteTime": {
     "end_time": "2019-11-18T13:05:11.350906Z",
     "start_time": "2019-11-18T13:05:11.326902Z"
    }
   },
   "outputs": [
    {
     "name": "stdout",
     "output_type": "stream",
     "text": [
      "Accuracy for validation set is:  0.3806063643197194\n"
     ]
    }
   ],
   "source": [
    "#Calculate Accuracy\n",
    "from sklearn.metrics import accuracy_score\n",
    "print('Accuracy for validation set is: ',accuracy_score(y_valid, y_pred))"
   ]
  },
  {
   "cell_type": "code",
   "execution_count": 39,
   "metadata": {
    "ExecuteTime": {
     "end_time": "2019-11-19T01:42:30.081749Z",
     "start_time": "2019-11-19T01:42:30.067747Z"
    }
   },
   "outputs": [
    {
     "name": "stdout",
     "output_type": "stream",
     "text": [
      "Accuracy for validation set is:  0.3071911801553495\n"
     ]
    }
   ],
   "source": [
    "#Calculate Accuracy\n",
    "from sklearn.metrics import accuracy_score\n",
    "print('Accuracy for validation set is: ',accuracy_score(y_valid, y_pred))"
   ]
  },
  {
   "cell_type": "code",
   "execution_count": 160,
   "metadata": {
    "ExecuteTime": {
     "end_time": "2019-11-19T06:01:51.703452Z",
     "start_time": "2019-11-19T06:01:51.679448Z"
    }
   },
   "outputs": [
    {
     "name": "stdout",
     "output_type": "stream",
     "text": [
      "Accuracy for validation set is:  0.6998246053620647\n"
     ]
    }
   ],
   "source": [
    "#Calculate Accuracy\n",
    "from sklearn.metrics import accuracy_score\n",
    "print('Accuracy for validation set is: ',accuracy_score(y_valid, y_pred))"
   ]
  },
  {
   "cell_type": "code",
   "execution_count": null,
   "metadata": {},
   "outputs": [],
   "source": []
  }
 ],
 "metadata": {
  "kernelspec": {
   "display_name": "Python 3",
   "language": "python",
   "name": "python3"
  },
  "language_info": {
   "codemirror_mode": {
    "name": "ipython",
    "version": 3
   },
   "file_extension": ".py",
   "mimetype": "text/x-python",
   "name": "python",
   "nbconvert_exporter": "python",
   "pygments_lexer": "ipython3",
   "version": "3.7.4"
  }
 },
 "nbformat": 4,
 "nbformat_minor": 2
}
