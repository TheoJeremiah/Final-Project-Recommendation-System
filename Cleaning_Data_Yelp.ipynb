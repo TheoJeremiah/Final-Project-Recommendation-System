{
 "cells": [
  {
   "cell_type": "code",
   "execution_count": 1,
   "metadata": {
    "ExecuteTime": {
     "end_time": "2019-11-18T07:41:18.476211Z",
     "start_time": "2019-11-18T07:41:05.593750Z"
    }
   },
   "outputs": [],
   "source": [
    "import numpy as np # linear algebra\n",
    "import pandas as pd # data processing, CSV file I/O (e.g. pd.read_csv)\n",
    "\n",
    "# Input data files are available in the \"../input/\" directory.\n",
    "# For example, running this (by clicking run or pressing Shift+Enter) will list the files in the input directory\n",
    "import matplotlib.pyplot as plt\n",
    "\n",
    "import collections\n",
    "import re, string\n",
    "import sys\n",
    "import time\n",
    "from nltk.corpus import stopwords\n",
    "from wordcloud import WordCloud\n",
    "import seaborn as sns\n",
    "\n",
    "from subprocess import check_output\n",
    "%matplotlib inline"
   ]
  },
  {
   "cell_type": "markdown",
   "metadata": {},
   "source": [
    "## Importing the Data "
   ]
  },
  {
   "cell_type": "code",
   "execution_count": 2,
   "metadata": {
    "ExecuteTime": {
     "end_time": "2019-11-18T07:41:18.486194Z",
     "start_time": "2019-11-18T07:41:18.478192Z"
    }
   },
   "outputs": [],
   "source": [
    "import json\n",
    "\n",
    "def init_ds(json):\n",
    "    ds= {}\n",
    "    keys = json.keys()\n",
    "    for k in keys:\n",
    "        ds[k]= []\n",
    "    return ds, keys\n",
    "\n",
    "def read_json(file):\n",
    "    dataset = {}\n",
    "    keys = []\n",
    "    with open(file, encoding='utf8') as file_lines:\n",
    "        for count, line in enumerate(file_lines):\n",
    "            data = json.loads(line.strip())\n",
    "            if count ==0:\n",
    "                dataset, keys = init_ds(data)\n",
    "            for k in keys:\n",
    "                dataset[k].append(data[k])\n",
    "                \n",
    "        return pd.DataFrame(dataset)"
   ]
  },
  {
   "cell_type": "code",
   "execution_count": 3,
   "metadata": {
    "ExecuteTime": {
     "end_time": "2019-11-18T07:42:12.205370Z",
     "start_time": "2019-11-18T07:42:07.417243Z"
    }
   },
   "outputs": [],
   "source": [
    "yelp_business= read_json('business.json')"
   ]
  },
  {
   "cell_type": "code",
   "execution_count": 4,
   "metadata": {
    "ExecuteTime": {
     "end_time": "2019-11-18T07:47:51.746028Z",
     "start_time": "2019-11-18T07:42:12.207368Z"
    }
   },
   "outputs": [],
   "source": [
    "yelp_review= read_json('review.json')"
   ]
  },
  {
   "cell_type": "code",
   "execution_count": 5,
   "metadata": {
    "ExecuteTime": {
     "end_time": "2019-11-18T07:47:54.968987Z",
     "start_time": "2019-11-18T07:47:52.011319Z"
    }
   },
   "outputs": [
    {
     "name": "stdout",
     "output_type": "stream",
     "text": [
      "<class 'pandas.core.frame.DataFrame'>\n",
      "RangeIndex: 6685900 entries, 0 to 6685899\n",
      "Data columns (total 9 columns):\n",
      "review_id      object\n",
      "user_id        object\n",
      "business_id    object\n",
      "stars          float64\n",
      "useful         int64\n",
      "funny          int64\n",
      "cool           int64\n",
      "text           object\n",
      "date           object\n",
      "dtypes: float64(1), int64(3), object(5)\n",
      "memory usage: 459.1+ MB\n"
     ]
    }
   ],
   "source": [
    "yelp_review.info()"
   ]
  },
  {
   "cell_type": "code",
   "execution_count": 6,
   "metadata": {
    "ExecuteTime": {
     "end_time": "2019-11-18T07:48:05.112539Z",
     "start_time": "2019-11-18T07:47:55.001787Z"
    }
   },
   "outputs": [
    {
     "name": "stdout",
     "output_type": "stream",
     "text": [
      "<class 'pandas.core.frame.DataFrame'>\n",
      "RangeIndex: 192609 entries, 0 to 192608\n",
      "Data columns (total 14 columns):\n",
      "business_id     192609 non-null object\n",
      "name            192609 non-null object\n",
      "address         192609 non-null object\n",
      "city            192609 non-null object\n",
      "state           192609 non-null object\n",
      "postal_code     192609 non-null object\n",
      "latitude        192609 non-null float64\n",
      "longitude       192609 non-null float64\n",
      "stars           192609 non-null float64\n",
      "review_count    192609 non-null int64\n",
      "is_open         192609 non-null int64\n",
      "attributes      163773 non-null object\n",
      "categories      192127 non-null object\n",
      "hours           147779 non-null object\n",
      "dtypes: float64(3), int64(2), object(9)\n",
      "memory usage: 20.6+ MB\n"
     ]
    }
   ],
   "source": [
    "yelp_business.info()"
   ]
  },
  {
   "cell_type": "code",
   "execution_count": 7,
   "metadata": {
    "ExecuteTime": {
     "end_time": "2019-11-18T07:48:07.127331Z",
     "start_time": "2019-11-18T07:48:05.149498Z"
    }
   },
   "outputs": [
    {
     "data": {
      "text/html": [
       "<div>\n",
       "<style scoped>\n",
       "    .dataframe tbody tr th:only-of-type {\n",
       "        vertical-align: middle;\n",
       "    }\n",
       "\n",
       "    .dataframe tbody tr th {\n",
       "        vertical-align: top;\n",
       "    }\n",
       "\n",
       "    .dataframe thead th {\n",
       "        text-align: right;\n",
       "    }\n",
       "</style>\n",
       "<table border=\"1\" class=\"dataframe\">\n",
       "  <thead>\n",
       "    <tr style=\"text-align: right;\">\n",
       "      <th></th>\n",
       "      <th>business_id</th>\n",
       "      <th>name</th>\n",
       "      <th>address</th>\n",
       "      <th>city</th>\n",
       "      <th>state</th>\n",
       "      <th>postal_code</th>\n",
       "      <th>latitude</th>\n",
       "      <th>longitude</th>\n",
       "      <th>stars</th>\n",
       "      <th>review_count</th>\n",
       "      <th>is_open</th>\n",
       "      <th>attributes</th>\n",
       "      <th>categories</th>\n",
       "      <th>hours</th>\n",
       "    </tr>\n",
       "  </thead>\n",
       "  <tbody>\n",
       "    <tr>\n",
       "      <td>0</td>\n",
       "      <td>1SWheh84yJXfytovILXOAQ</td>\n",
       "      <td>Arizona Biltmore Golf Club</td>\n",
       "      <td>2818 E Camino Acequia Drive</td>\n",
       "      <td>Phoenix</td>\n",
       "      <td>AZ</td>\n",
       "      <td>85016</td>\n",
       "      <td>33.522143</td>\n",
       "      <td>-112.018481</td>\n",
       "      <td>3.0</td>\n",
       "      <td>5</td>\n",
       "      <td>0</td>\n",
       "      <td>{'GoodForKids': 'False'}</td>\n",
       "      <td>Golf, Active Life</td>\n",
       "      <td>None</td>\n",
       "    </tr>\n",
       "    <tr>\n",
       "      <td>1</td>\n",
       "      <td>QXAEGFB4oINsVuTFxEYKFQ</td>\n",
       "      <td>Emerald Chinese Restaurant</td>\n",
       "      <td>30 Eglinton Avenue W</td>\n",
       "      <td>Mississauga</td>\n",
       "      <td>ON</td>\n",
       "      <td>L5R 3E7</td>\n",
       "      <td>43.605499</td>\n",
       "      <td>-79.652289</td>\n",
       "      <td>2.5</td>\n",
       "      <td>128</td>\n",
       "      <td>1</td>\n",
       "      <td>{'RestaurantsReservations': 'True', 'GoodForMe...</td>\n",
       "      <td>Specialty Food, Restaurants, Dim Sum, Imported...</td>\n",
       "      <td>{'Monday': '9:0-0:0', 'Tuesday': '9:0-0:0', 'W...</td>\n",
       "    </tr>\n",
       "    <tr>\n",
       "      <td>2</td>\n",
       "      <td>gnKjwL_1w79qoiV3IC_xQQ</td>\n",
       "      <td>Musashi Japanese Restaurant</td>\n",
       "      <td>10110 Johnston Rd, Ste 15</td>\n",
       "      <td>Charlotte</td>\n",
       "      <td>NC</td>\n",
       "      <td>28210</td>\n",
       "      <td>35.092564</td>\n",
       "      <td>-80.859132</td>\n",
       "      <td>4.0</td>\n",
       "      <td>170</td>\n",
       "      <td>1</td>\n",
       "      <td>{'GoodForKids': 'True', 'NoiseLevel': 'u'avera...</td>\n",
       "      <td>Sushi Bars, Restaurants, Japanese</td>\n",
       "      <td>{'Monday': '17:30-21:30', 'Wednesday': '17:30-...</td>\n",
       "    </tr>\n",
       "    <tr>\n",
       "      <td>3</td>\n",
       "      <td>xvX2CttrVhyG2z1dFg_0xw</td>\n",
       "      <td>Farmers Insurance - Paul Lorenz</td>\n",
       "      <td>15655 W Roosevelt St, Ste 237</td>\n",
       "      <td>Goodyear</td>\n",
       "      <td>AZ</td>\n",
       "      <td>85338</td>\n",
       "      <td>33.455613</td>\n",
       "      <td>-112.395596</td>\n",
       "      <td>5.0</td>\n",
       "      <td>3</td>\n",
       "      <td>1</td>\n",
       "      <td>None</td>\n",
       "      <td>Insurance, Financial Services</td>\n",
       "      <td>{'Monday': '8:0-17:0', 'Tuesday': '8:0-17:0', ...</td>\n",
       "    </tr>\n",
       "    <tr>\n",
       "      <td>4</td>\n",
       "      <td>HhyxOkGAM07SRYtlQ4wMFQ</td>\n",
       "      <td>Queen City Plumbing</td>\n",
       "      <td>4209 Stuart Andrew Blvd, Ste F</td>\n",
       "      <td>Charlotte</td>\n",
       "      <td>NC</td>\n",
       "      <td>28217</td>\n",
       "      <td>35.190012</td>\n",
       "      <td>-80.887223</td>\n",
       "      <td>4.0</td>\n",
       "      <td>4</td>\n",
       "      <td>1</td>\n",
       "      <td>{'BusinessAcceptsBitcoin': 'False', 'ByAppoint...</td>\n",
       "      <td>Plumbing, Shopping, Local Services, Home Servi...</td>\n",
       "      <td>{'Monday': '7:0-23:0', 'Tuesday': '7:0-23:0', ...</td>\n",
       "    </tr>\n",
       "  </tbody>\n",
       "</table>\n",
       "</div>"
      ],
      "text/plain": [
       "              business_id                             name  \\\n",
       "0  1SWheh84yJXfytovILXOAQ       Arizona Biltmore Golf Club   \n",
       "1  QXAEGFB4oINsVuTFxEYKFQ       Emerald Chinese Restaurant   \n",
       "2  gnKjwL_1w79qoiV3IC_xQQ      Musashi Japanese Restaurant   \n",
       "3  xvX2CttrVhyG2z1dFg_0xw  Farmers Insurance - Paul Lorenz   \n",
       "4  HhyxOkGAM07SRYtlQ4wMFQ              Queen City Plumbing   \n",
       "\n",
       "                          address         city state postal_code   latitude  \\\n",
       "0     2818 E Camino Acequia Drive      Phoenix    AZ       85016  33.522143   \n",
       "1            30 Eglinton Avenue W  Mississauga    ON     L5R 3E7  43.605499   \n",
       "2       10110 Johnston Rd, Ste 15    Charlotte    NC       28210  35.092564   \n",
       "3   15655 W Roosevelt St, Ste 237     Goodyear    AZ       85338  33.455613   \n",
       "4  4209 Stuart Andrew Blvd, Ste F    Charlotte    NC       28217  35.190012   \n",
       "\n",
       "    longitude  stars  review_count  is_open  \\\n",
       "0 -112.018481    3.0             5        0   \n",
       "1  -79.652289    2.5           128        1   \n",
       "2  -80.859132    4.0           170        1   \n",
       "3 -112.395596    5.0             3        1   \n",
       "4  -80.887223    4.0             4        1   \n",
       "\n",
       "                                          attributes  \\\n",
       "0                           {'GoodForKids': 'False'}   \n",
       "1  {'RestaurantsReservations': 'True', 'GoodForMe...   \n",
       "2  {'GoodForKids': 'True', 'NoiseLevel': 'u'avera...   \n",
       "3                                               None   \n",
       "4  {'BusinessAcceptsBitcoin': 'False', 'ByAppoint...   \n",
       "\n",
       "                                          categories  \\\n",
       "0                                  Golf, Active Life   \n",
       "1  Specialty Food, Restaurants, Dim Sum, Imported...   \n",
       "2                  Sushi Bars, Restaurants, Japanese   \n",
       "3                      Insurance, Financial Services   \n",
       "4  Plumbing, Shopping, Local Services, Home Servi...   \n",
       "\n",
       "                                               hours  \n",
       "0                                               None  \n",
       "1  {'Monday': '9:0-0:0', 'Tuesday': '9:0-0:0', 'W...  \n",
       "2  {'Monday': '17:30-21:30', 'Wednesday': '17:30-...  \n",
       "3  {'Monday': '8:0-17:0', 'Tuesday': '8:0-17:0', ...  \n",
       "4  {'Monday': '7:0-23:0', 'Tuesday': '7:0-23:0', ...  "
      ]
     },
     "execution_count": 7,
     "metadata": {},
     "output_type": "execute_result"
    }
   ],
   "source": [
    "yelp_business.head(5)"
   ]
  },
  {
   "cell_type": "code",
   "execution_count": 8,
   "metadata": {
    "ExecuteTime": {
     "end_time": "2019-11-18T07:48:07.171087Z",
     "start_time": "2019-11-18T07:48:07.155087Z"
    }
   },
   "outputs": [
    {
     "data": {
      "text/html": [
       "<div>\n",
       "<style scoped>\n",
       "    .dataframe tbody tr th:only-of-type {\n",
       "        vertical-align: middle;\n",
       "    }\n",
       "\n",
       "    .dataframe tbody tr th {\n",
       "        vertical-align: top;\n",
       "    }\n",
       "\n",
       "    .dataframe thead th {\n",
       "        text-align: right;\n",
       "    }\n",
       "</style>\n",
       "<table border=\"1\" class=\"dataframe\">\n",
       "  <thead>\n",
       "    <tr style=\"text-align: right;\">\n",
       "      <th></th>\n",
       "      <th>review_id</th>\n",
       "      <th>user_id</th>\n",
       "      <th>business_id</th>\n",
       "      <th>stars</th>\n",
       "      <th>useful</th>\n",
       "      <th>funny</th>\n",
       "      <th>cool</th>\n",
       "      <th>text</th>\n",
       "      <th>date</th>\n",
       "    </tr>\n",
       "  </thead>\n",
       "  <tbody>\n",
       "    <tr>\n",
       "      <td>0</td>\n",
       "      <td>Q1sbwvVQXV2734tPgoKj4Q</td>\n",
       "      <td>hG7b0MtEbXx5QzbzE6C_VA</td>\n",
       "      <td>ujmEBvifdJM6h6RLv4wQIg</td>\n",
       "      <td>1.0</td>\n",
       "      <td>6</td>\n",
       "      <td>1</td>\n",
       "      <td>0</td>\n",
       "      <td>Total bill for this horrible service? Over $8G...</td>\n",
       "      <td>2013-05-07 04:34:36</td>\n",
       "    </tr>\n",
       "    <tr>\n",
       "      <td>1</td>\n",
       "      <td>GJXCdrto3ASJOqKeVWPi6Q</td>\n",
       "      <td>yXQM5uF2jS6es16SJzNHfg</td>\n",
       "      <td>NZnhc2sEQy3RmzKTZnqtwQ</td>\n",
       "      <td>5.0</td>\n",
       "      <td>0</td>\n",
       "      <td>0</td>\n",
       "      <td>0</td>\n",
       "      <td>I *adore* Travis at the Hard Rock's new Kelly ...</td>\n",
       "      <td>2017-01-14 21:30:33</td>\n",
       "    </tr>\n",
       "    <tr>\n",
       "      <td>2</td>\n",
       "      <td>2TzJjDVDEuAW6MR5Vuc1ug</td>\n",
       "      <td>n6-Gk65cPZL6Uz8qRm3NYw</td>\n",
       "      <td>WTqjgwHlXbSFevF32_DJVw</td>\n",
       "      <td>5.0</td>\n",
       "      <td>3</td>\n",
       "      <td>0</td>\n",
       "      <td>0</td>\n",
       "      <td>I have to say that this office really has it t...</td>\n",
       "      <td>2016-11-09 20:09:03</td>\n",
       "    </tr>\n",
       "    <tr>\n",
       "      <td>3</td>\n",
       "      <td>yi0R0Ugj_xUx_Nek0-_Qig</td>\n",
       "      <td>dacAIZ6fTM6mqwW5uxkskg</td>\n",
       "      <td>ikCg8xy5JIg_NGPx-MSIDA</td>\n",
       "      <td>5.0</td>\n",
       "      <td>0</td>\n",
       "      <td>0</td>\n",
       "      <td>0</td>\n",
       "      <td>Went in for a lunch. Steak sandwich was delici...</td>\n",
       "      <td>2018-01-09 20:56:38</td>\n",
       "    </tr>\n",
       "    <tr>\n",
       "      <td>4</td>\n",
       "      <td>11a8sVPMUFtaC7_ABRkmtw</td>\n",
       "      <td>ssoyf2_x0EQMed6fgHeMyQ</td>\n",
       "      <td>b1b1eb3uo-w561D0ZfCEiQ</td>\n",
       "      <td>1.0</td>\n",
       "      <td>7</td>\n",
       "      <td>0</td>\n",
       "      <td>0</td>\n",
       "      <td>Today was my second out of three sessions I ha...</td>\n",
       "      <td>2018-01-30 23:07:38</td>\n",
       "    </tr>\n",
       "  </tbody>\n",
       "</table>\n",
       "</div>"
      ],
      "text/plain": [
       "                review_id                 user_id             business_id  \\\n",
       "0  Q1sbwvVQXV2734tPgoKj4Q  hG7b0MtEbXx5QzbzE6C_VA  ujmEBvifdJM6h6RLv4wQIg   \n",
       "1  GJXCdrto3ASJOqKeVWPi6Q  yXQM5uF2jS6es16SJzNHfg  NZnhc2sEQy3RmzKTZnqtwQ   \n",
       "2  2TzJjDVDEuAW6MR5Vuc1ug  n6-Gk65cPZL6Uz8qRm3NYw  WTqjgwHlXbSFevF32_DJVw   \n",
       "3  yi0R0Ugj_xUx_Nek0-_Qig  dacAIZ6fTM6mqwW5uxkskg  ikCg8xy5JIg_NGPx-MSIDA   \n",
       "4  11a8sVPMUFtaC7_ABRkmtw  ssoyf2_x0EQMed6fgHeMyQ  b1b1eb3uo-w561D0ZfCEiQ   \n",
       "\n",
       "   stars  useful  funny  cool  \\\n",
       "0    1.0       6      1     0   \n",
       "1    5.0       0      0     0   \n",
       "2    5.0       3      0     0   \n",
       "3    5.0       0      0     0   \n",
       "4    1.0       7      0     0   \n",
       "\n",
       "                                                text                 date  \n",
       "0  Total bill for this horrible service? Over $8G...  2013-05-07 04:34:36  \n",
       "1  I *adore* Travis at the Hard Rock's new Kelly ...  2017-01-14 21:30:33  \n",
       "2  I have to say that this office really has it t...  2016-11-09 20:09:03  \n",
       "3  Went in for a lunch. Steak sandwich was delici...  2018-01-09 20:56:38  \n",
       "4  Today was my second out of three sessions I ha...  2018-01-30 23:07:38  "
      ]
     },
     "execution_count": 8,
     "metadata": {},
     "output_type": "execute_result"
    }
   ],
   "source": [
    "yelp_review.head(5)"
   ]
  },
  {
   "cell_type": "markdown",
   "metadata": {},
   "source": [
    "## Merge Data to Filter Review Data"
   ]
  },
  {
   "cell_type": "markdown",
   "metadata": {},
   "source": [
    "#### Change the stars columns in Business Data to Restaurant Ratings, because it"
   ]
  },
  {
   "cell_type": "code",
   "execution_count": 9,
   "metadata": {
    "ExecuteTime": {
     "end_time": "2019-11-18T07:48:07.408560Z",
     "start_time": "2019-11-18T07:48:07.206030Z"
    }
   },
   "outputs": [],
   "source": [
    "yelp_business = yelp_business.rename(columns={'stars':'restaurant_ratings'})"
   ]
  },
  {
   "cell_type": "markdown",
   "metadata": {},
   "source": [
    "#### Choose columns in business data and merge to review data"
   ]
  },
  {
   "cell_type": "code",
   "execution_count": 10,
   "metadata": {
    "ExecuteTime": {
     "end_time": "2019-11-18T07:48:32.059531Z",
     "start_time": "2019-11-18T07:48:07.593014Z"
    }
   },
   "outputs": [],
   "source": [
    "yelp_data = pd.merge(yelp_review,yelp_business[['business_id', 'name', 'city', 'state', 'restaurant_ratings', 'categories']], how='left', on='business_id')"
   ]
  },
  {
   "cell_type": "markdown",
   "metadata": {},
   "source": [
    "## Filter Data only Restaurant Categories"
   ]
  },
  {
   "cell_type": "code",
   "execution_count": 11,
   "metadata": {
    "ExecuteTime": {
     "end_time": "2019-11-18T07:48:32.334054Z",
     "start_time": "2019-11-18T07:48:32.106431Z"
    }
   },
   "outputs": [
    {
     "data": {
      "text/plain": [
       "(6685900, 14)"
      ]
     },
     "execution_count": 11,
     "metadata": {},
     "output_type": "execute_result"
    }
   ],
   "source": [
    "yelp_data.shape"
   ]
  },
  {
   "cell_type": "code",
   "execution_count": 12,
   "metadata": {
    "ExecuteTime": {
     "end_time": "2019-11-18T07:48:46.712293Z",
     "start_time": "2019-11-18T07:48:32.442546Z"
    }
   },
   "outputs": [
    {
     "data": {
      "text/plain": [
       "review_id                0\n",
       "user_id                  0\n",
       "business_id              0\n",
       "stars                    0\n",
       "useful                   0\n",
       "funny                    0\n",
       "cool                     0\n",
       "text                     0\n",
       "date                     0\n",
       "name                     0\n",
       "city                     0\n",
       "state                    0\n",
       "restaurant_ratings       0\n",
       "categories            2137\n",
       "dtype: int64"
      ]
     },
     "execution_count": 12,
     "metadata": {},
     "output_type": "execute_result"
    }
   ],
   "source": [
    "yelp_data.isna().sum()"
   ]
  },
  {
   "cell_type": "code",
   "execution_count": 13,
   "metadata": {
    "ExecuteTime": {
     "end_time": "2019-11-18T07:48:53.325220Z",
     "start_time": "2019-11-18T07:48:46.873685Z"
    }
   },
   "outputs": [],
   "source": [
    "yelp_data.dropna(inplace=True)"
   ]
  },
  {
   "cell_type": "code",
   "execution_count": 14,
   "metadata": {
    "ExecuteTime": {
     "end_time": "2019-11-18T07:49:02.496056Z",
     "start_time": "2019-11-18T07:48:53.372046Z"
    }
   },
   "outputs": [],
   "source": [
    "yelp_data = yelp_data[yelp_data['categories'].str.contains(\"Food|Coffee|Tea|Restaurants|Bakeries|Bars|Sports Bar|Pubs|Nighlife\")]"
   ]
  },
  {
   "cell_type": "code",
   "execution_count": 15,
   "metadata": {
    "ExecuteTime": {
     "end_time": "2019-11-18T07:49:02.621907Z",
     "start_time": "2019-11-18T07:49:02.598905Z"
    }
   },
   "outputs": [
    {
     "data": {
      "text/plain": [
       "(4699711, 14)"
      ]
     },
     "execution_count": 15,
     "metadata": {},
     "output_type": "execute_result"
    }
   ],
   "source": [
    "yelp_data.shape"
   ]
  },
  {
   "cell_type": "markdown",
   "metadata": {},
   "source": [
    "## Check median of User Count and Restaurant Count"
   ]
  },
  {
   "cell_type": "code",
   "execution_count": 16,
   "metadata": {
    "ExecuteTime": {
     "end_time": "2019-11-18T07:49:05.604908Z",
     "start_time": "2019-11-18T07:49:02.662485Z"
    }
   },
   "outputs": [],
   "source": [
    "count_rest_review = pd.DataFrame(yelp_data['business_id'].value_counts()).reset_index().rename(columns={'index':'business_id', 'business_id':'count_business'})"
   ]
  },
  {
   "cell_type": "code",
   "execution_count": 17,
   "metadata": {
    "ExecuteTime": {
     "end_time": "2019-11-18T07:49:10.635061Z",
     "start_time": "2019-11-18T07:49:05.645101Z"
    }
   },
   "outputs": [],
   "source": [
    "count_user_review = pd.DataFrame(yelp_data['user_id'].value_counts()).reset_index().rename(columns={'index':'user_id', 'user_id':'count_user'})"
   ]
  },
  {
   "cell_type": "code",
   "execution_count": 18,
   "metadata": {
    "ExecuteTime": {
     "end_time": "2019-11-18T07:49:18.816389Z",
     "start_time": "2019-11-18T07:49:10.689039Z"
    }
   },
   "outputs": [],
   "source": [
    "yelp_data = pd.merge(yelp_data, count_rest_review, how='left', on='business_id')"
   ]
  },
  {
   "cell_type": "code",
   "execution_count": 19,
   "metadata": {
    "ExecuteTime": {
     "end_time": "2019-11-18T07:49:25.481813Z",
     "start_time": "2019-11-18T07:49:18.865390Z"
    }
   },
   "outputs": [],
   "source": [
    "yelp_data = pd.merge(yelp_data, count_user_review, how='left', on='user_id')"
   ]
  },
  {
   "cell_type": "code",
   "execution_count": 21,
   "metadata": {
    "ExecuteTime": {
     "end_time": "2019-11-18T07:49:25.723823Z",
     "start_time": "2019-11-18T07:49:25.532533Z"
    }
   },
   "outputs": [
    {
     "data": {
      "text/plain": [
       "10.0"
      ]
     },
     "execution_count": 21,
     "metadata": {},
     "output_type": "execute_result"
    }
   ],
   "source": [
    "yelp_data['count_user'].median()"
   ]
  },
  {
   "cell_type": "code",
   "execution_count": 22,
   "metadata": {
    "ExecuteTime": {
     "end_time": "2019-11-18T07:49:25.834883Z",
     "start_time": "2019-11-18T07:49:25.732826Z"
    }
   },
   "outputs": [
    {
     "data": {
      "text/plain": [
       "199.0"
      ]
     },
     "execution_count": 22,
     "metadata": {},
     "output_type": "execute_result"
    }
   ],
   "source": [
    "yelp_data['count_business'].median()"
   ]
  },
  {
   "cell_type": "code",
   "execution_count": 20,
   "metadata": {
    "ExecuteTime": {
     "end_time": "2019-11-18T07:49:25.528533Z",
     "start_time": "2019-11-18T07:49:25.521534Z"
    }
   },
   "outputs": [
    {
     "data": {
      "text/plain": [
       "(4699711, 16)"
      ]
     },
     "execution_count": 20,
     "metadata": {},
     "output_type": "execute_result"
    }
   ],
   "source": [
    "yelp_data.shape"
   ]
  },
  {
   "cell_type": "markdown",
   "metadata": {},
   "source": [
    "## Filter data only in Arizona"
   ]
  },
  {
   "cell_type": "code",
   "execution_count": 23,
   "metadata": {
    "ExecuteTime": {
     "end_time": "2019-11-18T07:52:09.747410Z",
     "start_time": "2019-11-18T07:52:03.513231Z"
    }
   },
   "outputs": [],
   "source": [
    "yelp_data = yelp_data[yelp_data['state']=='AZ']"
   ]
  },
  {
   "cell_type": "code",
   "execution_count": 24,
   "metadata": {
    "ExecuteTime": {
     "end_time": "2019-11-18T07:52:16.769641Z",
     "start_time": "2019-11-18T07:52:16.755641Z"
    }
   },
   "outputs": [
    {
     "data": {
      "text/plain": [
       "(1318827, 16)"
      ]
     },
     "execution_count": 24,
     "metadata": {},
     "output_type": "execute_result"
    }
   ],
   "source": [
    "yelp_data.shape"
   ]
  },
  {
   "cell_type": "code",
   "execution_count": 29,
   "metadata": {
    "ExecuteTime": {
     "end_time": "2019-11-18T07:56:20.779940Z",
     "start_time": "2019-11-18T07:55:41.800234Z"
    }
   },
   "outputs": [],
   "source": [
    "# yelp_data.to_csv('yelp_data_arizona_state_restaurant_original.csv', index=False)"
   ]
  },
  {
   "cell_type": "markdown",
   "metadata": {},
   "source": [
    "## Filter data only in top 5 cities of Arizona State"
   ]
  },
  {
   "cell_type": "code",
   "execution_count": 40,
   "metadata": {
    "ExecuteTime": {
     "end_time": "2019-11-18T08:04:57.431133Z",
     "start_time": "2019-11-18T08:04:56.469248Z"
    }
   },
   "outputs": [],
   "source": [
    "yelp_data_top_city = yelp_data[(yelp_data['city']=='Phoenix')|\n",
    "          (yelp_data['city']=='Scottsdale')|\n",
    "          (yelp_data['city']=='Tempe')|\n",
    "          (yelp_data['city']=='Mesa')|\n",
    "          (yelp_data['city']=='Chandler')]"
   ]
  },
  {
   "cell_type": "code",
   "execution_count": 41,
   "metadata": {
    "ExecuteTime": {
     "end_time": "2019-11-18T08:05:06.395986Z",
     "start_time": "2019-11-18T08:05:06.390987Z"
    }
   },
   "outputs": [
    {
     "data": {
      "text/plain": [
       "(1051588, 16)"
      ]
     },
     "execution_count": 41,
     "metadata": {},
     "output_type": "execute_result"
    }
   ],
   "source": [
    "yelp_data_top_city.shape"
   ]
  },
  {
   "cell_type": "code",
   "execution_count": 43,
   "metadata": {
    "ExecuteTime": {
     "end_time": "2019-11-18T08:06:25.274576Z",
     "start_time": "2019-11-18T08:05:59.307785Z"
    }
   },
   "outputs": [],
   "source": [
    "# yelp_data_top_city.to_csv('yelp_data_arizona_state_topcity_restaurant_original.csv', index=False)"
   ]
  },
  {
   "cell_type": "code",
   "execution_count": 42,
   "metadata": {
    "ExecuteTime": {
     "end_time": "2019-11-18T08:05:28.055231Z",
     "start_time": "2019-11-18T08:05:27.771828Z"
    }
   },
   "outputs": [
    {
     "data": {
      "text/plain": [
       "(-1.1296001144193493,\n",
       " 1.1014095292580643,\n",
       " -1.102083697235887,\n",
       " 1.1265853925003078)"
      ]
     },
     "execution_count": 42,
     "metadata": {},
     "output_type": "execute_result"
    },
    {
     "data": {
      "image/png": "[encoded data removed]",
      "text/plain": [
       "<Figure size 720x432 with 1 Axes>"
      ]
     },
     "metadata": {},
     "output_type": "display_data"
    }
   ],
   "source": [
    "yelp_data_top_city['city'].value_counts().sort_values(ascending=False).plot(kind='pie',figsize=(10,6), \n",
    "title=\"top cities\", autopct='%1.2f%%')\n",
    "plt.axis('equal')"
   ]
  },
  {
   "cell_type": "code",
   "execution_count": 102,
   "metadata": {
    "ExecuteTime": {
     "end_time": "2019-11-18T08:29:47.898959Z",
     "start_time": "2019-11-18T08:29:47.893950Z"
    }
   },
   "outputs": [
    {
     "data": {
      "text/plain": [
       "(1051588, 16)"
      ]
     },
     "execution_count": 102,
     "metadata": {},
     "output_type": "execute_result"
    }
   ],
   "source": [
    "yelp_data_top_city.shape"
   ]
  },
  {
   "cell_type": "code",
   "execution_count": 103,
   "metadata": {
    "ExecuteTime": {
     "end_time": "2019-11-18T08:30:28.362324Z",
     "start_time": "2019-11-18T08:30:27.906295Z"
    }
   },
   "outputs": [],
   "source": [
    "yelp_data_top_city = yelp_data_top_city.drop('count_business',axis=1)"
   ]
  },
  {
   "cell_type": "code",
   "execution_count": 104,
   "metadata": {
    "ExecuteTime": {
     "end_time": "2019-11-18T08:30:33.982369Z",
     "start_time": "2019-11-18T08:30:33.641358Z"
    }
   },
   "outputs": [],
   "source": [
    "yelp_data_top_city = yelp_data_top_city.drop('count_user',axis=1)"
   ]
  },
  {
   "cell_type": "code",
   "execution_count": 105,
   "metadata": {
    "ExecuteTime": {
     "end_time": "2019-11-18T08:31:31.593445Z",
     "start_time": "2019-11-18T08:31:31.228403Z"
    }
   },
   "outputs": [],
   "source": [
    "count_rest_review = pd.DataFrame(yelp_data_top_city['business_id'].value_counts()).reset_index().rename(columns={'index':'business_id', 'business_id':'count_business'})"
   ]
  },
  {
   "cell_type": "code",
   "execution_count": 106,
   "metadata": {
    "ExecuteTime": {
     "end_time": "2019-11-18T08:31:32.760790Z",
     "start_time": "2019-11-18T08:31:31.650430Z"
    }
   },
   "outputs": [],
   "source": [
    "count_user_review = pd.DataFrame(yelp_data_top_city['user_id'].value_counts()).reset_index().rename(columns={'index':'user_id', 'user_id':'count_user'})"
   ]
  },
  {
   "cell_type": "code",
   "execution_count": 107,
   "metadata": {
    "ExecuteTime": {
     "end_time": "2019-11-18T08:31:34.596931Z",
     "start_time": "2019-11-18T08:31:32.762791Z"
    }
   },
   "outputs": [],
   "source": [
    "yelp_data_top_city = pd.merge(yelp_data_top_city, count_rest_review, how='left', on='business_id')"
   ]
  },
  {
   "cell_type": "code",
   "execution_count": 108,
   "metadata": {
    "ExecuteTime": {
     "end_time": "2019-11-18T08:31:36.024039Z",
     "start_time": "2019-11-18T08:31:34.598932Z"
    }
   },
   "outputs": [],
   "source": [
    "yelp_data_top_city = pd.merge(yelp_data_top_city, count_user_review, how='left', on='user_id')"
   ]
  },
  {
   "cell_type": "code",
   "execution_count": 109,
   "metadata": {
    "ExecuteTime": {
     "end_time": "2019-11-18T08:31:52.382114Z",
     "start_time": "2019-11-18T08:31:52.335123Z"
    }
   },
   "outputs": [
    {
     "data": {
      "text/plain": [
       "count    1.051588e+06\n",
       "mean     3.961807e+01\n",
       "std      1.010888e+02\n",
       "min      1.000000e+00\n",
       "25%      3.000000e+00\n",
       "50%      8.000000e+00\n",
       "75%      3.100000e+01\n",
       "max      1.316000e+03\n",
       "Name: count_user, dtype: float64"
      ]
     },
     "execution_count": 109,
     "metadata": {},
     "output_type": "execute_result"
    }
   ],
   "source": [
    "yelp_data_top_city['count_user'].describe()"
   ]
  },
  {
   "cell_type": "code",
   "execution_count": 110,
   "metadata": {
    "ExecuteTime": {
     "end_time": "2019-11-18T08:32:05.152408Z",
     "start_time": "2019-11-18T08:32:05.098419Z"
    }
   },
   "outputs": [
    {
     "data": {
      "text/plain": [
       "count    1.051588e+06\n",
       "mean     3.914561e+02\n",
       "std      4.310956e+02\n",
       "min      3.000000e+00\n",
       "25%      1.100000e+02\n",
       "50%      2.460000e+02\n",
       "75%      5.050000e+02\n",
       "max      2.662000e+03\n",
       "Name: count_business, dtype: float64"
      ]
     },
     "execution_count": 110,
     "metadata": {},
     "output_type": "execute_result"
    }
   ],
   "source": [
    "yelp_data_top_city['count_business'].describe()"
   ]
  },
  {
   "cell_type": "markdown",
   "metadata": {},
   "source": [
    "## Filter user review count more than yelp's median = 10 and Filter business review count more than yelp's median = 199"
   ]
  },
  {
   "cell_type": "code",
   "execution_count": 111,
   "metadata": {
    "ExecuteTime": {
     "end_time": "2019-11-18T08:33:30.211708Z",
     "start_time": "2019-11-18T08:33:29.361633Z"
    }
   },
   "outputs": [],
   "source": [
    "yelp_data_top_city = yelp_data_top_city[yelp_data_top_city['count_user']>10]"
   ]
  },
  {
   "cell_type": "code",
   "execution_count": 113,
   "metadata": {
    "ExecuteTime": {
     "end_time": "2019-11-18T08:33:47.677333Z",
     "start_time": "2019-11-18T08:33:47.590326Z"
    }
   },
   "outputs": [],
   "source": [
    "yelp_data_top_city = yelp_data_top_city[yelp_data_top_city['count_business']>199]"
   ]
  },
  {
   "cell_type": "code",
   "execution_count": 116,
   "metadata": {
    "ExecuteTime": {
     "end_time": "2019-11-18T08:36:40.265884Z",
     "start_time": "2019-11-18T08:36:32.405632Z"
    }
   },
   "outputs": [],
   "source": [
    "# yelp_data_top_city.to_csv('yelp_data_arizona_state_topcity_restaurant_filtermed_original.csv', index=False)"
   ]
  },
  {
   "cell_type": "code",
   "execution_count": 115,
   "metadata": {
    "ExecuteTime": {
     "end_time": "2019-11-18T08:35:36.829132Z",
     "start_time": "2019-11-18T08:35:36.673134Z"
    }
   },
   "outputs": [
    {
     "data": {
      "text/plain": [
       "(-1.1091960633581242,\n",
       " 1.100437912196039,\n",
       " -1.109289457939138,\n",
       " 1.1192871116412468)"
      ]
     },
     "execution_count": 115,
     "metadata": {},
     "output_type": "execute_result"
    },
    {
     "data": {
      "image/png": "[encoded data removed]",
      "text/plain": [
       "<Figure size 720x432 with 1 Axes>"
      ]
     },
     "metadata": {},
     "output_type": "display_data"
    }
   ],
   "source": [
    "yelp_data_top_city['city'].value_counts().sort_values(ascending=False).plot(kind='pie',figsize=(10,6), \n",
    "title=\"top cities\", autopct='%1.2f%%')\n",
    "plt.axis('equal')"
   ]
  },
  {
   "cell_type": "code",
   "execution_count": 117,
   "metadata": {
    "ExecuteTime": {
     "end_time": "2019-11-18T08:36:52.423564Z",
     "start_time": "2019-11-18T08:36:52.418550Z"
    }
   },
   "outputs": [
    {
     "data": {
      "text/plain": [
       "(266059, 16)"
      ]
     },
     "execution_count": 117,
     "metadata": {},
     "output_type": "execute_result"
    }
   ],
   "source": [
    "yelp_data_top_city.shape"
   ]
  },
  {
   "cell_type": "markdown",
   "metadata": {},
   "source": [
    "## Sampling 10% Data "
   ]
  },
  {
   "cell_type": "code",
   "execution_count": 118,
   "metadata": {
    "ExecuteTime": {
     "end_time": "2019-11-18T08:37:03.283161Z",
     "start_time": "2019-11-18T08:37:02.311076Z"
    }
   },
   "outputs": [
    {
     "data": {
      "text/html": [
       "<div>\n",
       "<style scoped>\n",
       "    .dataframe tbody tr th:only-of-type {\n",
       "        vertical-align: middle;\n",
       "    }\n",
       "\n",
       "    .dataframe tbody tr th {\n",
       "        vertical-align: top;\n",
       "    }\n",
       "\n",
       "    .dataframe thead th {\n",
       "        text-align: right;\n",
       "    }\n",
       "</style>\n",
       "<table border=\"1\" class=\"dataframe\">\n",
       "  <thead>\n",
       "    <tr style=\"text-align: right;\">\n",
       "      <th></th>\n",
       "      <th>review_id</th>\n",
       "      <th>user_id</th>\n",
       "      <th>business_id</th>\n",
       "      <th>stars</th>\n",
       "      <th>useful</th>\n",
       "      <th>funny</th>\n",
       "      <th>cool</th>\n",
       "      <th>text</th>\n",
       "      <th>date</th>\n",
       "      <th>name</th>\n",
       "      <th>city</th>\n",
       "      <th>state</th>\n",
       "      <th>restaurant_ratings</th>\n",
       "      <th>categories</th>\n",
       "      <th>count_business</th>\n",
       "      <th>count_user</th>\n",
       "    </tr>\n",
       "  </thead>\n",
       "  <tbody>\n",
       "    <tr>\n",
       "      <td>0</td>\n",
       "      <td>V93SYj2OLh5m9Cquzf-7kg</td>\n",
       "      <td>ZwVz20be-hOZnyAbevyMyQ</td>\n",
       "      <td>2c9Vptks_vowLgVUMnCgjw</td>\n",
       "      <td>4.0</td>\n",
       "      <td>0</td>\n",
       "      <td>0</td>\n",
       "      <td>0</td>\n",
       "      <td>Came here while in town for a country concert....</td>\n",
       "      <td>2013-09-04 01:29:46</td>\n",
       "      <td>Dierks Bentley's Whiskey Row</td>\n",
       "      <td>Scottsdale</td>\n",
       "      <td>AZ</td>\n",
       "      <td>3.5</td>\n",
       "      <td>American (Traditional), Breakfast &amp; Brunch, Fo...</td>\n",
       "      <td>466</td>\n",
       "      <td>11</td>\n",
       "    </tr>\n",
       "    <tr>\n",
       "      <td>1</td>\n",
       "      <td>vNTFadc6T9HeH3Qa78dc_Q</td>\n",
       "      <td>91TB-gzcNyxFh46TL0pmnQ</td>\n",
       "      <td>6nKR80xEGHYf2UxAe_Cu_g</td>\n",
       "      <td>5.0</td>\n",
       "      <td>0</td>\n",
       "      <td>0</td>\n",
       "      <td>0</td>\n",
       "      <td>Best barbecue this side of the Mississippi!!!!...</td>\n",
       "      <td>2015-12-05 02:50:10</td>\n",
       "      <td>The Thumb BBQ</td>\n",
       "      <td>Scottsdale</td>\n",
       "      <td>AZ</td>\n",
       "      <td>4.5</td>\n",
       "      <td>Farmers Market, Gas Stations, Automotive, Car ...</td>\n",
       "      <td>991</td>\n",
       "      <td>135</td>\n",
       "    </tr>\n",
       "    <tr>\n",
       "      <td>2</td>\n",
       "      <td>SXRFBCt5eXCBF7TlI7UG6Q</td>\n",
       "      <td>Y_QBiZpATJoz8hKUfYF66A</td>\n",
       "      <td>fbQaKW0Lte0JQ_opbnjdKg</td>\n",
       "      <td>5.0</td>\n",
       "      <td>1</td>\n",
       "      <td>0</td>\n",
       "      <td>0</td>\n",
       "      <td>Absolutely amazing. Think Chipotle for enchila...</td>\n",
       "      <td>2014-04-01 01:56:00</td>\n",
       "      <td>Gadzooks Enchiladas &amp; Soup</td>\n",
       "      <td>Phoenix</td>\n",
       "      <td>AZ</td>\n",
       "      <td>4.0</td>\n",
       "      <td>Restaurants, Specialty Food, Food, Soup, Break...</td>\n",
       "      <td>834</td>\n",
       "      <td>36</td>\n",
       "    </tr>\n",
       "    <tr>\n",
       "      <td>3</td>\n",
       "      <td>CqMNjtG0hNZGhDw4RDE-zw</td>\n",
       "      <td>_Jg-IA0M-GSjBlGu-wmejg</td>\n",
       "      <td>r8764MtYyt8JhxMvrfM_xQ</td>\n",
       "      <td>2.0</td>\n",
       "      <td>0</td>\n",
       "      <td>0</td>\n",
       "      <td>0</td>\n",
       "      <td>I was really disappointed with my most recent ...</td>\n",
       "      <td>2014-10-11 03:53:53</td>\n",
       "      <td>Vintage 95</td>\n",
       "      <td>Chandler</td>\n",
       "      <td>AZ</td>\n",
       "      <td>4.0</td>\n",
       "      <td>American (New), Bars, Wine Bars, Nightlife, Re...</td>\n",
       "      <td>329</td>\n",
       "      <td>15</td>\n",
       "    </tr>\n",
       "    <tr>\n",
       "      <td>4</td>\n",
       "      <td>5hZLouGEW4wm6BTJ5aNUNw</td>\n",
       "      <td>1CqkFliipv_X15WYn5aPfg</td>\n",
       "      <td>QS3QxI7u5PRdtbGgI0-UsA</td>\n",
       "      <td>4.0</td>\n",
       "      <td>0</td>\n",
       "      <td>0</td>\n",
       "      <td>0</td>\n",
       "      <td>I grade sushi restaurants on 3 factors:\\n- Qua...</td>\n",
       "      <td>2015-03-04 19:36:21</td>\n",
       "      <td>Sakana Sushi &amp; Grill</td>\n",
       "      <td>Scottsdale</td>\n",
       "      <td>AZ</td>\n",
       "      <td>4.0</td>\n",
       "      <td>Asian Fusion, Restaurants, Seafood, Sushi Bars...</td>\n",
       "      <td>365</td>\n",
       "      <td>33</td>\n",
       "    </tr>\n",
       "  </tbody>\n",
       "</table>\n",
       "</div>"
      ],
      "text/plain": [
       "                review_id                 user_id             business_id  \\\n",
       "0  V93SYj2OLh5m9Cquzf-7kg  ZwVz20be-hOZnyAbevyMyQ  2c9Vptks_vowLgVUMnCgjw   \n",
       "1  vNTFadc6T9HeH3Qa78dc_Q  91TB-gzcNyxFh46TL0pmnQ  6nKR80xEGHYf2UxAe_Cu_g   \n",
       "2  SXRFBCt5eXCBF7TlI7UG6Q  Y_QBiZpATJoz8hKUfYF66A  fbQaKW0Lte0JQ_opbnjdKg   \n",
       "3  CqMNjtG0hNZGhDw4RDE-zw  _Jg-IA0M-GSjBlGu-wmejg  r8764MtYyt8JhxMvrfM_xQ   \n",
       "4  5hZLouGEW4wm6BTJ5aNUNw  1CqkFliipv_X15WYn5aPfg  QS3QxI7u5PRdtbGgI0-UsA   \n",
       "\n",
       "   stars  useful  funny  cool  \\\n",
       "0    4.0       0      0     0   \n",
       "1    5.0       0      0     0   \n",
       "2    5.0       1      0     0   \n",
       "3    2.0       0      0     0   \n",
       "4    4.0       0      0     0   \n",
       "\n",
       "                                                text                 date  \\\n",
       "0  Came here while in town for a country concert....  2013-09-04 01:29:46   \n",
       "1  Best barbecue this side of the Mississippi!!!!...  2015-12-05 02:50:10   \n",
       "2  Absolutely amazing. Think Chipotle for enchila...  2014-04-01 01:56:00   \n",
       "3  I was really disappointed with my most recent ...  2014-10-11 03:53:53   \n",
       "4  I grade sushi restaurants on 3 factors:\\n- Qua...  2015-03-04 19:36:21   \n",
       "\n",
       "                           name        city state  restaurant_ratings  \\\n",
       "0  Dierks Bentley's Whiskey Row  Scottsdale    AZ                 3.5   \n",
       "1                 The Thumb BBQ  Scottsdale    AZ                 4.5   \n",
       "2    Gadzooks Enchiladas & Soup     Phoenix    AZ                 4.0   \n",
       "3                    Vintage 95    Chandler    AZ                 4.0   \n",
       "4          Sakana Sushi & Grill  Scottsdale    AZ                 4.0   \n",
       "\n",
       "                                          categories  count_business  \\\n",
       "0  American (Traditional), Breakfast & Brunch, Fo...             466   \n",
       "1  Farmers Market, Gas Stations, Automotive, Car ...             991   \n",
       "2  Restaurants, Specialty Food, Food, Soup, Break...             834   \n",
       "3  American (New), Bars, Wine Bars, Nightlife, Re...             329   \n",
       "4  Asian Fusion, Restaurants, Seafood, Sushi Bars...             365   \n",
       "\n",
       "   count_user  \n",
       "0          11  \n",
       "1         135  \n",
       "2          36  \n",
       "3          15  \n",
       "4          33  "
      ]
     },
     "execution_count": 118,
     "metadata": {},
     "output_type": "execute_result"
    }
   ],
   "source": [
    "# The data to load\n",
    "f = 'yelp_data_arizona_state_topcity_restaurant_filtermed_original.csv'\n",
    "\n",
    "# Take every N-th (in this case 100th) row\n",
    "n = 10\n",
    "\n",
    "# Count the lines or use an upper bound\n",
    "num_lines = 266059\n",
    "\n",
    "# The row indices to skip - make sure 0 is not included to keep the header!\n",
    "skip_idx = [x for x in range(1, num_lines) if x % n != 0]\n",
    "\n",
    "# Read the data\n",
    "yelp_chunk = pd.read_csv(f, skiprows=skip_idx)\n",
    "yelp_chunk.head()"
   ]
  },
  {
   "cell_type": "code",
   "execution_count": 119,
   "metadata": {
    "ExecuteTime": {
     "end_time": "2019-11-18T08:37:03.928312Z",
     "start_time": "2019-11-18T08:37:03.921311Z"
    }
   },
   "outputs": [
    {
     "data": {
      "text/plain": [
       "(26606, 16)"
      ]
     },
     "execution_count": 119,
     "metadata": {},
     "output_type": "execute_result"
    }
   ],
   "source": [
    "yelp_chunk.shape"
   ]
  },
  {
   "cell_type": "code",
   "execution_count": 120,
   "metadata": {
    "ExecuteTime": {
     "end_time": "2019-11-18T08:37:05.397433Z",
     "start_time": "2019-11-18T08:37:05.266242Z"
    }
   },
   "outputs": [
    {
     "data": {
      "text/plain": [
       "(-1.1095937573563732,\n",
       " 1.1004568455883987,\n",
       " -1.1074504852545537,\n",
       " 1.119468998057295)"
      ]
     },
     "execution_count": 120,
     "metadata": {},
     "output_type": "execute_result"
    },
    {
     "data": {
      "image/png": "[encoded data removed]",
      "text/plain": [
       "<Figure size 720x432 with 1 Axes>"
      ]
     },
     "metadata": {},
     "output_type": "display_data"
    }
   ],
   "source": [
    "yelp_chunk['city'].value_counts().sort_values(ascending=False).head(10).plot(kind='pie',figsize=(10,6), \n",
    "title=\"top cities\", autopct='%1.2f%%')\n",
    "plt.axis('equal')"
   ]
  },
  {
   "cell_type": "markdown",
   "metadata": {},
   "source": [
    "## Export Data"
   ]
  },
  {
   "cell_type": "code",
   "execution_count": 121,
   "metadata": {
    "ExecuteTime": {
     "end_time": "2019-11-18T08:37:56.967527Z",
     "start_time": "2019-11-18T08:37:56.275381Z"
    }
   },
   "outputs": [],
   "source": [
    "yelp_chunk.to_csv('yelp_data_arizona_state_topcity_restaurant_sampling_FINAL_DATA.csv', index=False)"
   ]
  },
  {
   "cell_type": "markdown",
   "metadata": {},
   "source": [
    "## Export Data"
   ]
  },
  {
   "cell_type": "code",
   "execution_count": 26,
   "metadata": {
    "ExecuteTime": {
     "end_time": "2019-11-17T10:33:18.419802Z",
     "start_time": "2019-11-17T10:29:35.463992Z"
    }
   },
   "outputs": [],
   "source": [
    "# yelp_data_arizona.to_csv('yelp_arizona_data.csv', index=False)"
   ]
  },
  {
   "cell_type": "code",
   "execution_count": 5,
   "metadata": {
    "ExecuteTime": {
     "end_time": "2019-11-14T03:37:51.369978Z",
     "start_time": "2019-11-14T03:37:44.092850Z"
    }
   },
   "outputs": [],
   "source": [
    "# yelp_business.to_csv('yelp_business.csv', index=False)"
   ]
  },
  {
   "cell_type": "code",
   "execution_count": 6,
   "metadata": {
    "ExecuteTime": {
     "end_time": "2019-11-14T03:40:47.695399Z",
     "start_time": "2019-11-14T03:38:00.176986Z"
    }
   },
   "outputs": [],
   "source": [
    "# yelp_review.to_csv('yelp_review.csv', index=False)"
   ]
  },
  {
   "cell_type": "code",
   "execution_count": null,
   "metadata": {},
   "outputs": [],
   "source": []
  }
 ],
 "metadata": {
  "kernelspec": {
   "display_name": "Python 3",
   "language": "python",
   "name": "python3"
  },
  "language_info": {
   "codemirror_mode": {
    "name": "ipython",
    "version": 3
   },
   "file_extension": ".py",
   "mimetype": "text/x-python",
   "name": "python",
   "nbconvert_exporter": "python",
   "pygments_lexer": "ipython3",
   "version": "3.7.4"
  }
 },
 "nbformat": 4,
 "nbformat_minor": 2
}
